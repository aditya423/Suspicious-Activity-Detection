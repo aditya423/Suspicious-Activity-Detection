{
  "cells": [
    {
      "cell_type": "code",
      "execution_count": null,
      "metadata": {
        "id": "-NI85lry97dp"
      },
      "outputs": [],
      "source": [
        "import math\n",
        "import os\n",
        "import random\n",
        "import cv2\n",
        "import numpy as np"
      ]
    },
    {
      "cell_type": "code",
      "execution_count": null,
      "metadata": {
        "id": "wUKp_7Tw97dq"
      },
      "outputs": [],
      "source": [
        "import Augmentor"
      ]
    },
    {
      "cell_type": "code",
      "execution_count": null,
      "metadata": {
        "id": "xhFmBuju97dq",
        "outputId": "3b8f635d-2bae-435f-95bc-0e7b72a11199"
      },
      "outputs": [
        {
          "name": "stdout",
          "output_type": "stream",
          "text": [
            "Initialised with 5 image(s) found.\n",
            "Output directory set to D:\\Dataset of currency\\Normalized dataset\\Complete Dataset\\test\\output."
          ]
        }
      ],
      "source": [
        "p = Augmentor.Pipeline(r\"D:\\Dataset of currency\\Currency vs non currency\")"
      ]
    },
    {
      "cell_type": "code",
      "execution_count": null,
      "metadata": {
        "id": "iDopaDqX97dr"
      },
      "outputs": [],
      "source": [
        "p.resize(probability=1,width=300,height=200)\n",
        "p.rotate180(probability=0.5)\n",
        "p.shear(probability=0.5,max_shear_left=15,max_shear_right=15)\n",
        "p.flip_random(probability=0.5)\n",
        "p.random_brightness(probability=0.5,min_factor=0.8,max_factor=1.2)\n",
        "p.skew(probability=0.5,magnitude=0.2)"
      ]
    },
    {
      "cell_type": "code",
      "execution_count": null,
      "metadata": {
        "id": "tt_2UfA997dr",
        "outputId": "1aa78999-9c29-4f77-a820-bf6b3cfcba65"
      },
      "outputs": [
        {
          "name": "stderr",
          "output_type": "stream",
          "text": [
            "Processing <PIL.Image.Image image mode=RGB size=300x200 at 0x27BECADCAF0>: 100%|██████████| 100/100 [00:00<00:00, 217.83 Samples/s]\n"
          ]
        }
      ],
      "source": [
        "p.sample(100)"
      ]
    },
    {
      "cell_type": "code",
      "execution_count": null,
      "metadata": {
        "id": "Hzrsv8bj97dr",
        "outputId": "7f679b6b-8e97-4124-ee8b-2fd61ee60c43"
      },
      "outputs": [
        {
          "name": "stdout",
          "output_type": "stream",
          "text": [
            "d:\\Dataset of currency\\Currency vs non currency\n",
            "['Currency', 'Not Currency']\n"
          ]
        }
      ],
      "source": [
        "headpath = os.getcwd()\n",
        "list = os.listdir()\n",
        "#list.remove(\"Dataset.py\")\n",
        "list.remove(\"dataset.ipynb\")\n",
        "list.remove(\"Test.npy\")\n",
        "list.remove(\"Train.npy\")\n",
        "list.remove(\"Val.npy\")\n",
        "countdict = {}\n",
        "roundcountdict = {}\n",
        "factors = {}\n",
        "print(headpath)\n",
        "print(list)"
      ]
    },
    {
      "cell_type": "code",
      "execution_count": null,
      "metadata": {
        "id": "BACsWNDb97ds"
      },
      "outputs": [],
      "source": [
        "\n",
        "errorlist = []\n",
        "for i in os.listdir(os.path.join(headpath,\"Not Currency\")):\n",
        "\ttry :\n",
        "\t\timg = cv2.imread(os.path.join(headpath,\"Not Currency\",i))\n",
        "\t\timg = cv2.cvtColor(img,cv2.COLOR_BGR2RGB)\n",
        "\texcept Exception:\n",
        "\t\terrorlist.append(i)\n"
      ]
    },
    {
      "cell_type": "code",
      "execution_count": null,
      "metadata": {
        "id": "6hMuP1-b97ds",
        "outputId": "99d26e76-b2cc-4d0a-8016-1deece62986e"
      },
      "outputs": [
        {
          "name": "stdout",
          "output_type": "stream",
          "text": [
            "0\n"
          ]
        }
      ],
      "source": [
        "print(len(errorlist))"
      ]
    },
    {
      "cell_type": "code",
      "execution_count": null,
      "metadata": {
        "id": "G6HTVQ6t97ds",
        "outputId": "e4319519-5c83-4b16-9247-9a4fa282c901"
      },
      "outputs": [
        {
          "name": "stdout",
          "output_type": "stream",
          "text": [
            "[]\n"
          ]
        }
      ],
      "source": [
        "print(errorlist)"
      ]
    },
    {
      "cell_type": "code",
      "execution_count": null,
      "metadata": {
        "id": "vEkSSTw097ds"
      },
      "outputs": [],
      "source": [
        "if not os.path.exists(os.path.join(headpath,\"Not Currency\",'u')):\n",
        "\tos.mkdir(os.path.join(headpath,\"Not Currency\",'u'))\n",
        "for i in errorlist:\n",
        "\tos.rename(os.path.join(headpath,\"Not Currency\",i),os.path.join(headpath,\"Not Currency\",'u',i))"
      ]
    },
    {
      "cell_type": "code",
      "execution_count": null,
      "metadata": {
        "id": "EzXtOJyy97ds",
        "outputId": "599d0081-921a-4fe2-8612-b0ec15db3815"
      },
      "outputs": [
        {
          "name": "stdout",
          "output_type": "stream",
          "text": [
            "Currency 2307\n",
            "Not Currency 1994\n"
          ]
        }
      ],
      "source": [
        "for i in list:\n",
        "\tactual_count = len(os.listdir(os.path.join(headpath,i)))\n",
        "\tcountdict[i] = actual_count\n",
        "\n",
        "for i in countdict.keys():\n",
        "\tprint(i,countdict[i])"
      ]
    },
    {
      "cell_type": "code",
      "execution_count": null,
      "metadata": {
        "id": "BQHtuE_Q97dt"
      },
      "outputs": [],
      "source": [
        "for folder,count in countdict.items():\n",
        "\ttrain = round(count*0.7)\n",
        "\tval = (count - train)//2\n",
        "\ttest = val\n",
        "\n",
        "\timages = os.listdir(folder)\n",
        "\trandom.shuffle(images)\n",
        "\ttrainimg = images[:train]\n",
        "\tvalimg = images[train:train+val]\n",
        "\ttestimg = images[train+val:]\n",
        "\n",
        "\tfor i in [\"Train\",\"Val\",\"Test\"]:\n",
        "\t\tif not os.path.exists(os.path.join(headpath,folder,i)):\n",
        "\t\t\tos.mkdir(os.path.join(headpath,folder,i))\n",
        "\n",
        "\tfor i in trainimg:\n",
        "\t\tos.replace(os.path.join(headpath,folder,i),os.path.join(headpath,folder,\"Train\",i))\n",
        "\t\n",
        "\tfor i in valimg:\n",
        "\t\tos.replace(os.path.join(headpath,folder,i),os.path.join(headpath,folder,\"Val\",i))\n",
        "\n",
        "\tfor i in testimg:\n",
        "\t\tos.replace(os.path.join(headpath,folder,i),os.path.join(headpath,folder,\"Test\",i))\t"
      ]
    },
    {
      "cell_type": "code",
      "execution_count": null,
      "metadata": {
        "id": "S2fM86Xs97dt"
      },
      "outputs": [],
      "source": [
        "costdict = {\"Train\":1750,\"Val\":375,\"Test\":375}"
      ]
    },
    {
      "cell_type": "code",
      "execution_count": null,
      "metadata": {
        "id": "9IFurwto97dt",
        "outputId": "703713a2-1479-4660-de30-98b455224b24"
      },
      "outputs": [
        {
          "name": "stdout",
          "output_type": "stream",
          "text": [
            "For Currency Train:\n",
            "Initialised with 1615 image(s) found.\n",
            "Output directory set to d:\\Dataset of currency\\Currency vs non currency\\Currency\\Train\\output."
          ]
        },
        {
          "name": "stderr",
          "output_type": "stream",
          "text": [
            "Processing <PIL.Image.Image image mode=RGB size=300x200 at 0x1D3B651B4F0>: 100%|██████████| 1750/1750 [00:31<00:00, 55.07 Samples/s]\n"
          ]
        },
        {
          "name": "stdout",
          "output_type": "stream",
          "text": [
            "For Currency Val:\n",
            "Initialised with 346 image(s) found.\n",
            "Output directory set to d:\\Dataset of currency\\Currency vs non currency\\Currency\\Val\\output."
          ]
        },
        {
          "name": "stderr",
          "output_type": "stream",
          "text": [
            "Processing <PIL.Image.Image image mode=RGB size=300x200 at 0x1D3B39C4C40>: 100%|██████████| 375/375 [00:07<00:00, 48.86 Samples/s]\n"
          ]
        },
        {
          "name": "stdout",
          "output_type": "stream",
          "text": [
            "For Currency Test:\n",
            "Initialised with 346 image(s) found.\n",
            "Output directory set to d:\\Dataset of currency\\Currency vs non currency\\Currency\\Test\\output."
          ]
        },
        {
          "name": "stderr",
          "output_type": "stream",
          "text": [
            "Processing <PIL.Image.Image image mode=RGB size=300x200 at 0x1D3B520E140>: 100%|██████████| 375/375 [00:06<00:00, 57.90 Samples/s]\n"
          ]
        },
        {
          "name": "stdout",
          "output_type": "stream",
          "text": [
            "For Not Currency Train:\n",
            "Initialised with 1394 image(s) found.\n",
            "Output directory set to d:\\Dataset of currency\\Currency vs non currency\\Not Currency\\Train\\output."
          ]
        },
        {
          "name": "stderr",
          "output_type": "stream",
          "text": [
            "Processing <PIL.Image.Image image mode=RGB size=300x200 at 0x1D3B37CD420>:  99%|█████████▉| 1734/1750 [00:10<00:00, 169.41 Samples/s] \n"
          ]
        },
        {
          "ename": "AttributeError",
          "evalue": "'OSError' object has no attribute 'message'",
          "output_type": "error",
          "traceback": [
            "\u001b[1;31m---------------------------------------------------------------------------\u001b[0m",
            "\u001b[1;31mKeyError\u001b[0m                                  Traceback (most recent call last)",
            "File \u001b[1;32mc:\\Users\\DELL\\AppData\\Local\\Programs\\Python\\Python310\\lib\\site-packages\\PIL\\JpegImagePlugin.py:630\u001b[0m, in \u001b[0;36m_save\u001b[1;34m(im, fp, filename)\u001b[0m\n\u001b[0;32m    629\u001b[0m \u001b[39mtry\u001b[39;00m:\n\u001b[1;32m--> 630\u001b[0m     rawmode \u001b[39m=\u001b[39m RAWMODE[im\u001b[39m.\u001b[39;49mmode]\n\u001b[0;32m    631\u001b[0m \u001b[39mexcept\u001b[39;00m \u001b[39mKeyError\u001b[39;00m \u001b[39mas\u001b[39;00m e:\n",
            "\u001b[1;31mKeyError\u001b[0m: 'RGBA'",
            "\nThe above exception was the direct cause of the following exception:\n",
            "\u001b[1;31mOSError\u001b[0m                                   Traceback (most recent call last)",
            "File \u001b[1;32mc:\\Users\\DELL\\AppData\\Local\\Programs\\Python\\Python310\\lib\\site-packages\\Augmentor\\Pipeline.py:251\u001b[0m, in \u001b[0;36mPipeline._execute\u001b[1;34m(self, augmentor_image, save_to_disk, multi_threaded)\u001b[0m\n\u001b[0;32m    243\u001b[0m     save_name \u001b[39m=\u001b[39m augmentor_image\u001b[39m.\u001b[39mclass_label \\\n\u001b[0;32m    244\u001b[0m                 \u001b[39m+\u001b[39m \u001b[39m\"\u001b[39m\u001b[39m_original_\u001b[39m\u001b[39m\"\u001b[39m \\\n\u001b[0;32m    245\u001b[0m                 \u001b[39m+\u001b[39m os\u001b[39m.\u001b[39mpath\u001b[39m.\u001b[39mbasename(augmentor_image\u001b[39m.\u001b[39mimage_path) \\\n\u001b[1;32m   (...)\u001b[0m\n\u001b[0;32m    248\u001b[0m                 \u001b[39m+\u001b[39m \u001b[39m\"\u001b[39m\u001b[39m.\u001b[39m\u001b[39m\"\u001b[39m \\\n\u001b[0;32m    249\u001b[0m                 \u001b[39m+\u001b[39m (\u001b[39mself\u001b[39m\u001b[39m.\u001b[39msave_format \u001b[39mif\u001b[39;00m \u001b[39mself\u001b[39m\u001b[39m.\u001b[39msave_format \u001b[39melse\u001b[39;00m augmentor_image\u001b[39m.\u001b[39mfile_format)\n\u001b[1;32m--> 251\u001b[0m     images[i]\u001b[39m.\u001b[39;49msave(os\u001b[39m.\u001b[39;49mpath\u001b[39m.\u001b[39;49mjoin(augmentor_image\u001b[39m.\u001b[39;49moutput_directory, save_name))\n\u001b[0;32m    253\u001b[0m \u001b[39melse\u001b[39;00m:\n",
            "File \u001b[1;32mc:\\Users\\DELL\\AppData\\Local\\Programs\\Python\\Python310\\lib\\site-packages\\PIL\\Image.py:2212\u001b[0m, in \u001b[0;36mImage.save\u001b[1;34m(self, fp, format, **params)\u001b[0m\n\u001b[0;32m   2211\u001b[0m \u001b[39mtry\u001b[39;00m:\n\u001b[1;32m-> 2212\u001b[0m     save_handler(\u001b[39mself\u001b[39;49m, fp, filename)\n\u001b[0;32m   2213\u001b[0m \u001b[39mfinally\u001b[39;00m:\n\u001b[0;32m   2214\u001b[0m     \u001b[39m# do what we can to clean up\u001b[39;00m\n",
            "File \u001b[1;32mc:\\Users\\DELL\\AppData\\Local\\Programs\\Python\\Python310\\lib\\site-packages\\PIL\\JpegImagePlugin.py:632\u001b[0m, in \u001b[0;36m_save\u001b[1;34m(im, fp, filename)\u001b[0m\n\u001b[0;32m    631\u001b[0m \u001b[39mexcept\u001b[39;00m \u001b[39mKeyError\u001b[39;00m \u001b[39mas\u001b[39;00m e:\n\u001b[1;32m--> 632\u001b[0m     \u001b[39mraise\u001b[39;00m \u001b[39mOSError\u001b[39;00m(\u001b[39mf\u001b[39m\u001b[39m\"\u001b[39m\u001b[39mcannot write mode \u001b[39m\u001b[39m{\u001b[39;00mim\u001b[39m.\u001b[39mmode\u001b[39m}\u001b[39;00m\u001b[39m as JPEG\u001b[39m\u001b[39m\"\u001b[39m) \u001b[39mfrom\u001b[39;00m \u001b[39me\u001b[39;00m\n\u001b[0;32m    634\u001b[0m info \u001b[39m=\u001b[39m im\u001b[39m.\u001b[39mencoderinfo\n",
            "\u001b[1;31mOSError\u001b[0m: cannot write mode RGBA as JPEG",
            "\nDuring handling of the above exception, another exception occurred:\n",
            "\u001b[1;31mAttributeError\u001b[0m                            Traceback (most recent call last)",
            "\u001b[1;32md:\\Dataset of currency\\Currency vs non currency\\dataset.ipynb Cell 14\u001b[0m in \u001b[0;36m<cell line: 1>\u001b[1;34m()\u001b[0m\n\u001b[0;32m      <a href='vscode-notebook-cell:/d%3A/Dataset%20of%20currency/Currency%20vs%20non%20currency/dataset.ipynb#X13sZmlsZQ%3D%3D?line=7'>8</a>\u001b[0m p\u001b[39m.\u001b[39mflip_random(probability\u001b[39m=\u001b[39m\u001b[39m0.5\u001b[39m)\n\u001b[0;32m      <a href='vscode-notebook-cell:/d%3A/Dataset%20of%20currency/Currency%20vs%20non%20currency/dataset.ipynb#X13sZmlsZQ%3D%3D?line=8'>9</a>\u001b[0m p\u001b[39m.\u001b[39mrandom_brightness(probability\u001b[39m=\u001b[39m\u001b[39m0.7\u001b[39m,min_factor\u001b[39m=\u001b[39m\u001b[39m0.8\u001b[39m,max_factor\u001b[39m=\u001b[39m\u001b[39m1.2\u001b[39m)\n\u001b[1;32m---> <a href='vscode-notebook-cell:/d%3A/Dataset%20of%20currency/Currency%20vs%20non%20currency/dataset.ipynb#X13sZmlsZQ%3D%3D?line=9'>10</a>\u001b[0m p\u001b[39m.\u001b[39;49msample(samples)\n",
            "File \u001b[1;32mc:\\Users\\DELL\\AppData\\Local\\Programs\\Python\\Python310\\lib\\site-packages\\Augmentor\\Pipeline.py:364\u001b[0m, in \u001b[0;36mPipeline.sample\u001b[1;34m(self, n, multi_threaded)\u001b[0m\n\u001b[0;32m    362\u001b[0m \u001b[39mwith\u001b[39;00m tqdm(total\u001b[39m=\u001b[39m\u001b[39mlen\u001b[39m(augmentor_images), desc\u001b[39m=\u001b[39m\u001b[39m\"\u001b[39m\u001b[39mExecuting Pipeline\u001b[39m\u001b[39m\"\u001b[39m, unit\u001b[39m=\u001b[39m\u001b[39m\"\u001b[39m\u001b[39m Samples\u001b[39m\u001b[39m\"\u001b[39m) \u001b[39mas\u001b[39;00m progress_bar:\n\u001b[0;32m    363\u001b[0m     \u001b[39mwith\u001b[39;00m ThreadPoolExecutor(max_workers\u001b[39m=\u001b[39m\u001b[39mNone\u001b[39;00m) \u001b[39mas\u001b[39;00m executor:\n\u001b[1;32m--> 364\u001b[0m         \u001b[39mfor\u001b[39;00m result \u001b[39min\u001b[39;00m executor\u001b[39m.\u001b[39mmap(\u001b[39mself\u001b[39m, augmentor_images):\n\u001b[0;32m    365\u001b[0m             progress_bar\u001b[39m.\u001b[39mset_description(\u001b[39m\"\u001b[39m\u001b[39mProcessing \u001b[39m\u001b[39m%s\u001b[39;00m\u001b[39m\"\u001b[39m \u001b[39m%\u001b[39m result)\n\u001b[0;32m    366\u001b[0m             progress_bar\u001b[39m.\u001b[39mupdate(\u001b[39m1\u001b[39m)\n",
            "File \u001b[1;32mc:\\Users\\DELL\\AppData\\Local\\Programs\\Python\\Python310\\lib\\concurrent\\futures\\_base.py:609\u001b[0m, in \u001b[0;36mExecutor.map.<locals>.result_iterator\u001b[1;34m()\u001b[0m\n\u001b[0;32m    606\u001b[0m \u001b[39mwhile\u001b[39;00m fs:\n\u001b[0;32m    607\u001b[0m     \u001b[39m# Careful not to keep a reference to the popped future\u001b[39;00m\n\u001b[0;32m    608\u001b[0m     \u001b[39mif\u001b[39;00m timeout \u001b[39mis\u001b[39;00m \u001b[39mNone\u001b[39;00m:\n\u001b[1;32m--> 609\u001b[0m         \u001b[39myield\u001b[39;00m fs\u001b[39m.\u001b[39;49mpop()\u001b[39m.\u001b[39;49mresult()\n\u001b[0;32m    610\u001b[0m     \u001b[39melse\u001b[39;00m:\n\u001b[0;32m    611\u001b[0m         \u001b[39myield\u001b[39;00m fs\u001b[39m.\u001b[39mpop()\u001b[39m.\u001b[39mresult(end_time \u001b[39m-\u001b[39m time\u001b[39m.\u001b[39mmonotonic())\n",
            "File \u001b[1;32mc:\\Users\\DELL\\AppData\\Local\\Programs\\Python\\Python310\\lib\\concurrent\\futures\\_base.py:439\u001b[0m, in \u001b[0;36mFuture.result\u001b[1;34m(self, timeout)\u001b[0m\n\u001b[0;32m    437\u001b[0m     \u001b[39mraise\u001b[39;00m CancelledError()\n\u001b[0;32m    438\u001b[0m \u001b[39melif\u001b[39;00m \u001b[39mself\u001b[39m\u001b[39m.\u001b[39m_state \u001b[39m==\u001b[39m FINISHED:\n\u001b[1;32m--> 439\u001b[0m     \u001b[39mreturn\u001b[39;00m \u001b[39mself\u001b[39;49m\u001b[39m.\u001b[39;49m__get_result()\n\u001b[0;32m    441\u001b[0m \u001b[39mself\u001b[39m\u001b[39m.\u001b[39m_condition\u001b[39m.\u001b[39mwait(timeout)\n\u001b[0;32m    443\u001b[0m \u001b[39mif\u001b[39;00m \u001b[39mself\u001b[39m\u001b[39m.\u001b[39m_state \u001b[39min\u001b[39;00m [CANCELLED, CANCELLED_AND_NOTIFIED]:\n",
            "File \u001b[1;32mc:\\Users\\DELL\\AppData\\Local\\Programs\\Python\\Python310\\lib\\concurrent\\futures\\_base.py:391\u001b[0m, in \u001b[0;36mFuture.__get_result\u001b[1;34m(self)\u001b[0m\n\u001b[0;32m    389\u001b[0m \u001b[39mif\u001b[39;00m \u001b[39mself\u001b[39m\u001b[39m.\u001b[39m_exception:\n\u001b[0;32m    390\u001b[0m     \u001b[39mtry\u001b[39;00m:\n\u001b[1;32m--> 391\u001b[0m         \u001b[39mraise\u001b[39;00m \u001b[39mself\u001b[39m\u001b[39m.\u001b[39m_exception\n\u001b[0;32m    392\u001b[0m     \u001b[39mfinally\u001b[39;00m:\n\u001b[0;32m    393\u001b[0m         \u001b[39m# Break a reference cycle with the exception in self._exception\u001b[39;00m\n\u001b[0;32m    394\u001b[0m         \u001b[39mself\u001b[39m \u001b[39m=\u001b[39m \u001b[39mNone\u001b[39;00m\n",
            "File \u001b[1;32mc:\\Users\\DELL\\AppData\\Local\\Programs\\Python\\Python310\\lib\\concurrent\\futures\\thread.py:58\u001b[0m, in \u001b[0;36m_WorkItem.run\u001b[1;34m(self)\u001b[0m\n\u001b[0;32m     55\u001b[0m     \u001b[39mreturn\u001b[39;00m\n\u001b[0;32m     57\u001b[0m \u001b[39mtry\u001b[39;00m:\n\u001b[1;32m---> 58\u001b[0m     result \u001b[39m=\u001b[39m \u001b[39mself\u001b[39m\u001b[39m.\u001b[39mfn(\u001b[39m*\u001b[39m\u001b[39mself\u001b[39m\u001b[39m.\u001b[39margs, \u001b[39m*\u001b[39m\u001b[39m*\u001b[39m\u001b[39mself\u001b[39m\u001b[39m.\u001b[39mkwargs)\n\u001b[0;32m     59\u001b[0m \u001b[39mexcept\u001b[39;00m \u001b[39mBaseException\u001b[39;00m \u001b[39mas\u001b[39;00m exc:\n\u001b[0;32m     60\u001b[0m     \u001b[39mself\u001b[39m\u001b[39m.\u001b[39mfuture\u001b[39m.\u001b[39mset_exception(exc)\n",
            "File \u001b[1;32mc:\\Users\\DELL\\AppData\\Local\\Programs\\Python\\Python310\\lib\\site-packages\\Augmentor\\Pipeline.py:105\u001b[0m, in \u001b[0;36mPipeline.__call__\u001b[1;34m(self, augmentor_image)\u001b[0m\n\u001b[0;32m     92\u001b[0m \u001b[39mdef\u001b[39;00m \u001b[39m__call__\u001b[39m(\u001b[39mself\u001b[39m, augmentor_image):\n\u001b[0;32m     93\u001b[0m     \u001b[39m\"\"\"\u001b[39;00m\n\u001b[0;32m     94\u001b[0m \u001b[39m    Function used by the ThreadPoolExecutor to process the pipeline\u001b[39;00m\n\u001b[0;32m     95\u001b[0m \u001b[39m    using multiple threads. Do not call directly.\u001b[39;00m\n\u001b[1;32m   (...)\u001b[0m\n\u001b[0;32m    103\u001b[0m \u001b[39m    :return: None\u001b[39;00m\n\u001b[0;32m    104\u001b[0m \u001b[39m    \"\"\"\u001b[39;00m\n\u001b[1;32m--> 105\u001b[0m     \u001b[39mreturn\u001b[39;00m \u001b[39mself\u001b[39;49m\u001b[39m.\u001b[39;49m_execute(augmentor_image)\n",
            "File \u001b[1;32mc:\\Users\\DELL\\AppData\\Local\\Programs\\Python\\Python310\\lib\\site-packages\\Augmentor\\Pipeline.py:268\u001b[0m, in \u001b[0;36mPipeline._execute\u001b[1;34m(self, augmentor_image, save_to_disk, multi_threaded)\u001b[0m\n\u001b[0;32m    265\u001b[0m             images[i]\u001b[39m.\u001b[39msave(os\u001b[39m.\u001b[39mpath\u001b[39m.\u001b[39mjoin(augmentor_image\u001b[39m.\u001b[39moutput_directory, save_name))\n\u001b[0;32m    267\u001b[0m \u001b[39mexcept\u001b[39;00m \u001b[39mIOError\u001b[39;00m \u001b[39mas\u001b[39;00m e:\n\u001b[1;32m--> 268\u001b[0m     \u001b[39mprint\u001b[39m(\u001b[39m\"\u001b[39m\u001b[39mError writing \u001b[39m\u001b[39m%s\u001b[39;00m\u001b[39m, \u001b[39m\u001b[39m%s\u001b[39;00m\u001b[39m. Change save_format to PNG?\u001b[39m\u001b[39m\"\u001b[39m \u001b[39m%\u001b[39m (file_name, e\u001b[39m.\u001b[39;49mmessage))\n\u001b[0;32m    269\u001b[0m     \u001b[39mprint\u001b[39m(\u001b[39m\"\u001b[39m\u001b[39mYou can change the save format using the set_save_format(save_format) function.\u001b[39m\u001b[39m\"\u001b[39m)\n\u001b[0;32m    270\u001b[0m     \u001b[39mprint\u001b[39m(\u001b[39m\"\u001b[39m\u001b[39mBy passing save_format=\u001b[39m\u001b[39m\\\"\u001b[39;00m\u001b[39mauto\u001b[39m\u001b[39m\\\"\u001b[39;00m\u001b[39m, Augmentor can save in the correct format automatically.\u001b[39m\u001b[39m\"\u001b[39m)\n",
            "\u001b[1;31mAttributeError\u001b[0m: 'OSError' object has no attribute 'message'"
          ]
        }
      ],
      "source": [
        "for folder in countdict.keys():\n",
        "\tfor categoryfolder,samples in costdict.items():\n",
        "\t\tprint(f\"For {folder} {categoryfolder}:\")\n",
        "\t\tp = Augmentor.Pipeline(os.path.join(headpath,folder,categoryfolder))\n",
        "\t\tp.resize(probability=1,width=300,height=200)\n",
        "\t\tp.rotate180(probability=0.5)\n",
        "\t\tp.shear(probability=0.5,max_shear_left=15,max_shear_right=15)\n",
        "\t\tp.flip_random(probability=0.5)\n",
        "\t\tp.random_brightness(probability=0.7,min_factor=0.8,max_factor=1.2)\n",
        "\t\tp.sample(samples)"
      ]
    },
    {
      "cell_type": "code",
      "execution_count": null,
      "metadata": {
        "id": "dinsw97W97dt",
        "outputId": "f8bf9a24-90c6-40b8-ed56-e40d442a543e"
      },
      "outputs": [
        {
          "name": "stdout",
          "output_type": "stream",
          "text": [
            "For Not Currency Train:\n",
            "Initialised with 1394 image(s) found.\n",
            "Output directory set to d:\\Dataset of currency\\Currency vs non currency\\Not Currency\\Train\\output."
          ]
        },
        {
          "name": "stderr",
          "output_type": "stream",
          "text": [
            "Processing <PIL.Image.Image image mode=RGB size=300x200 at 0x1D3B6795390>: 100%|██████████| 1750/1750 [00:07<00:00, 224.63 Samples/s] \n"
          ]
        },
        {
          "name": "stdout",
          "output_type": "stream",
          "text": [
            "For Not Currency Val:\n",
            "Initialised with 299 image(s) found.\n",
            "Output directory set to d:\\Dataset of currency\\Currency vs non currency\\Not Currency\\Val\\output."
          ]
        },
        {
          "name": "stderr",
          "output_type": "stream",
          "text": [
            "Processing <PIL.Image.Image image mode=RGB size=300x200 at 0x1D3B6DF1120>: 100%|██████████| 375/375 [00:01<00:00, 209.59 Samples/s] \n"
          ]
        },
        {
          "name": "stdout",
          "output_type": "stream",
          "text": [
            "For Not Currency Test:\n",
            "Initialised with 299 image(s) found.\n",
            "Output directory set to d:\\Dataset of currency\\Currency vs non currency\\Not Currency\\Test\\output."
          ]
        },
        {
          "name": "stderr",
          "output_type": "stream",
          "text": [
            "Processing <PIL.Image.Image image mode=RGB size=300x200 at 0x1D3B5FD1F00>: 100%|██████████| 375/375 [00:01<00:00, 214.63 Samples/s] \n"
          ]
        }
      ],
      "source": [
        "folder = \"Not Currency\"\n",
        "for categoryfolder,samples in costdict.items():\n",
        "\tprint(f\"For {folder} {categoryfolder}:\")\n",
        "\tp = Augmentor.Pipeline(os.path.join(headpath,folder,categoryfolder))\n",
        "\tp.resize(probability=1,width=300,height=200)\n",
        "\tp.rotate180(probability=0.5)\n",
        "\tp.shear(probability=0.5,max_shear_left=15,max_shear_right=15)\n",
        "\tp.flip_random(probability=0.5)\n",
        "\t# p.random_brightness(probability=0.7,min_factor=0.8,max_factor=1.2)\n",
        "\tp.sample(samples)"
      ]
    },
    {
      "cell_type": "code",
      "execution_count": null,
      "metadata": {
        "id": "mHZuRVwO97du"
      },
      "outputs": [],
      "source": [
        "labellist = ['Currency', 'Not Currency']"
      ]
    },
    {
      "cell_type": "code",
      "execution_count": null,
      "metadata": {
        "id": "14FREjH997du",
        "outputId": "a48b4838-8e85-427f-f508-d9fa0bb11f40"
      },
      "outputs": [
        {
          "name": "stdout",
          "output_type": "stream",
          "text": [
            "Train\n",
            "1750\n"
          ]
        },
        {
          "name": "stderr",
          "output_type": "stream",
          "text": [
            "c:\\Users\\DELL\\AppData\\Local\\Programs\\Python\\Python310\\lib\\site-packages\\numpy\\lib\\npyio.py:518: VisibleDeprecationWarning: Creating an ndarray from ragged nested sequences (which is a list-or-tuple of lists-or-tuples-or ndarrays with different lengths or shapes) is deprecated. If you meant to do this, you must specify 'dtype=object' when creating the ndarray.\n",
            "  arr = np.asanyarray(arr)\n"
          ]
        },
        {
          "name": "stdout",
          "output_type": "stream",
          "text": [
            "1750\n",
            "Val\n",
            "375\n",
            "375\n",
            "Test\n",
            "375\n",
            "375\n"
          ]
        }
      ],
      "source": [
        "for category in [\"Train\",\"Val\",\"Test\"]:\n",
        "\tprint(category)\n",
        "\tmainArray = []\n",
        "\tfor folder in countdict.keys():\n",
        "\t\tlabel = labellist.index(folder)\n",
        "\t\t# print(f\"Processing {folder} {label}:\")\n",
        "\t\tlabel = np.array([label])\n",
        "\t\timages = os.listdir(os.path.join(headpath,folder,category,\"output\"))\n",
        "\t\tprint(len(images))\n",
        "\t\tfor image in images:\n",
        "\t\t\ttry:\n",
        "\t\t\t\timg = cv2.imread(os.path.join(headpath,folder,category,\"output\",image))\n",
        "\t\t\t\timg = cv2.cvtColor(img,cv2.COLOR_BGR2RGB)\n",
        "\t\t\t\timg = np.array(img)\n",
        "\t\t\t\tmainArray.append([img,label])\n",
        "\t\t\texcept Exception as e:\n",
        "\t\t\t\tprint(image,e)\n",
        "\t\tnp.save(f\"{category}.npy\",mainArray)"
      ]
    },
    {
      "cell_type": "code",
      "execution_count": null,
      "metadata": {
        "id": "dMjd4CFo97du"
      },
      "outputs": [],
      "source": [
        "for folder in countdict.keys():\n",
        "\tfor categoryfolder,samples in costdict.items():\n",
        "\t\tprint(f\"For {folder} {categoryfolder}:\")\n",
        "\t\tp = Augmentor.Pipeline(os.path.join(headpath,folder,categoryfolder))\n",
        "\t\tp.resize(probability=1,width=300,height=200)\n",
        "\t\tp.rotate180(probability=0.5)\n",
        "\t\tp.shear(probability=0.5,max_shear_left=15,max_shear_right=15)\n",
        "\t\tp.flip_random(probability=0.5)\n",
        "\t\tp.random_brightness(probability=0.7,min_factor=0.8,max_factor=1.2)\n",
        "\t\tp.sample(samples)\n",
        "\t\t"
      ]
    },
    {
      "cell_type": "code",
      "execution_count": null,
      "metadata": {
        "id": "iwled0nI97du"
      },
      "outputs": [],
      "source": [
        "labellist = ['Currency', 'Not Currency']"
      ]
    },
    {
      "cell_type": "code",
      "execution_count": null,
      "metadata": {
        "id": "xZVjSeY-97du",
        "outputId": "19eabeef-ad03-464d-8113-f8aaf18051f6"
      },
      "outputs": [
        {
          "name": "stdout",
          "output_type": "stream",
          "text": [
            "Train\n"
          ]
        },
        {
          "name": "stderr",
          "output_type": "stream",
          "text": [
            "c:\\Users\\DELL\\AppData\\Local\\Programs\\Python\\Python310\\lib\\site-packages\\numpy\\lib\\npyio.py:518: VisibleDeprecationWarning: Creating an ndarray from ragged nested sequences (which is a list-or-tuple of lists-or-tuples-or ndarrays with different lengths or shapes) is deprecated. If you meant to do this, you must specify 'dtype=object' when creating the ndarray.\n",
            "  arr = np.asanyarray(arr)\n"
          ]
        },
        {
          "name": "stdout",
          "output_type": "stream",
          "text": [
            "Val\n",
            "Test\n"
          ]
        }
      ],
      "source": [
        "for category in [\"Train\",\"Val\",\"Test\"]:\n",
        "\tprint(category)\n",
        "\tmainArray = []\n",
        "\tfor folder in countdict.keys():\n",
        "\t\tlabel = labellist.index(folder)\n",
        "\t\t# print(f\"Processing {folder} {label}:\")\n",
        "\t\tlabel = np.array([label])\n",
        "\t\timages = os.listdir(os.path.join(headpath,folder,category,\"output\"))\n",
        "\t\tprint(len(images))\n",
        "\t\tfor image in images:\n",
        "\t\t\timg = cv2.imread(os.path.join(headpath,folder,category,\"output\",image))\n",
        "\t\t\timg = cv2.cvtColor(img,cv2.COLOR_BGR2RGB)\n",
        "\t\t\timg = np.array(img)\n",
        "\t\t\tmainArray.append([img,label])\n",
        "\t\tnp.save(f\"{category}.npy\",mainArray)"
      ]
    },
    {
      "cell_type": "code",
      "execution_count": null,
      "metadata": {
        "id": "0XXHNNgO97dv"
      },
      "outputs": [],
      "source": [
        "train = np.load(os.path.join(headpath,\"Test.npy\"),allow_pickle=True)"
      ]
    },
    {
      "cell_type": "code",
      "execution_count": null,
      "metadata": {
        "id": "MMpXOlgK97dv"
      },
      "outputs": [],
      "source": [
        "train_features = [i[0] for i in train]\n",
        "train_classes = [i[1] for i in train]"
      ]
    },
    {
      "cell_type": "code",
      "execution_count": null,
      "metadata": {
        "id": "dDRxWu1J97dv"
      },
      "outputs": [],
      "source": [
        "traint = np.array(train_classes)"
      ]
    },
    {
      "cell_type": "code",
      "execution_count": null,
      "metadata": {
        "id": "uvEns-zC97dv",
        "outputId": "e96c2fe3-5dca-4e80-b6b3-885e3d4fbba1"
      },
      "outputs": [
        {
          "data": {
            "text/plain": [
              "array([0, 0, 0, 0, 0, 0, 0, 0, 0, 0, 0, 0, 0, 0, 0, 0, 0, 0, 0, 0, 0, 0,\n",
              "       0, 0, 0, 0, 0, 0, 0, 0, 0, 0, 0, 0, 0, 0, 0, 0, 0, 0, 0, 0, 0, 0,\n",
              "       0, 0, 0, 0, 0, 0, 0, 0, 0, 0, 0, 0, 0, 0, 0, 0, 0, 0, 0, 0, 0, 0,\n",
              "       0, 0, 0, 0, 0, 0, 0, 0, 0, 0, 0, 0, 0, 0, 0, 0, 0, 0, 0, 0, 0, 0,\n",
              "       0, 0, 0, 0, 0, 0, 0, 0, 0, 0, 0, 0, 0, 0, 0, 0, 0, 0, 0, 0, 0, 0,\n",
              "       0, 0, 0, 0, 0, 0, 0, 0, 0, 0, 0, 0, 0, 0, 0, 0, 0, 0, 0, 0, 0, 0,\n",
              "       0, 0, 0, 0, 0, 0, 0, 0, 0, 0, 0, 0, 0, 0, 0, 0, 0, 0, 0, 0, 0, 0,\n",
              "       0, 0, 0, 0, 0, 0, 0, 0, 0, 0, 0, 0, 0, 0, 0, 0, 0, 0, 0, 0, 0, 0,\n",
              "       0, 0, 0, 0, 0, 0, 0, 0, 0, 0, 0, 0, 0, 0, 0, 0, 0, 0, 0, 0, 0, 0,\n",
              "       0, 0, 0, 0, 0, 0, 0, 0, 0, 0, 0, 0, 0, 0, 0, 0, 0, 0, 0, 0, 0, 0,\n",
              "       0, 0, 0, 0, 0, 0, 0, 0, 0, 0, 0, 0, 0, 0, 0, 0, 0, 0, 0, 0, 0, 0,\n",
              "       0, 0, 0, 0, 0, 0, 0, 0, 0, 0, 0, 0, 0, 0, 0, 0, 0, 0, 0, 0, 0, 0,\n",
              "       0, 0, 0, 0, 0, 0, 0, 0, 0, 0, 0, 0, 0, 0, 0, 0, 0, 0, 0, 0, 0, 0,\n",
              "       0, 0, 0, 0, 0, 0, 0, 0, 0, 0, 0, 0, 0, 0, 0, 0, 0, 0, 0, 0, 0, 0,\n",
              "       0, 0, 0, 0, 0, 0, 0, 0, 0, 0, 0, 0, 0, 0, 0, 0, 0, 0, 0, 0, 0, 0,\n",
              "       0, 0, 0, 0, 0, 0, 0, 0, 0, 0, 0, 0, 0, 0, 0, 0, 0, 0, 0, 0, 0, 0,\n",
              "       0, 0, 0, 0, 0, 0, 0, 0, 0, 0, 0, 0, 0, 0, 0, 0, 0, 0, 0, 0, 0, 0,\n",
              "       0, 1, 1, 1, 1, 1, 1, 1, 1, 1, 1, 1, 1, 1, 1, 1, 1, 1, 1, 1, 1, 1,\n",
              "       1, 1, 1, 1, 1, 1, 1, 1, 1, 1, 1, 1, 1, 1, 1, 1, 1, 1, 1, 1, 1, 1,\n",
              "       1, 1, 1, 1, 1, 1, 1, 1, 1, 1, 1, 1, 1, 1, 1, 1, 1, 1, 1, 1, 1, 1,\n",
              "       1, 1, 1, 1, 1, 1, 1, 1, 1, 1, 1, 1, 1, 1, 1, 1, 1, 1, 1, 1, 1, 1,\n",
              "       1, 1, 1, 1, 1, 1, 1, 1, 1, 1, 1, 1, 1, 1, 1, 1, 1, 1, 1, 1, 1, 1,\n",
              "       1, 1, 1, 1, 1, 1, 1, 1, 1, 1, 1, 1, 1, 1, 1, 1, 1, 1, 1, 1, 1, 1,\n",
              "       1, 1, 1, 1, 1, 1, 1, 1, 1, 1, 1, 1, 1, 1, 1, 1, 1, 1, 1, 1, 1, 1,\n",
              "       1, 1, 1, 1, 1, 1, 1, 1, 1, 1, 1, 1, 1, 1, 1, 1, 1, 1, 1, 1, 1, 1,\n",
              "       1, 1, 1, 1, 1, 1, 1, 1, 1, 1, 1, 1, 1, 1, 1, 1, 1, 1, 1, 1, 1, 1,\n",
              "       1, 1, 1, 1, 1, 1, 1, 1, 1, 1, 1, 1, 1, 1, 1, 1, 1, 1, 1, 1, 1, 1,\n",
              "       1, 1, 1, 1, 1, 1, 1, 1, 1, 1, 1, 1, 1, 1, 1, 1, 1, 1, 1, 1, 1, 1,\n",
              "       1, 1, 1, 1, 1, 1, 1, 1, 1, 1, 1, 1, 1, 1, 1, 1, 1, 1, 1, 1, 1, 1,\n",
              "       1, 1, 1, 1, 1, 1, 1, 1, 1, 1, 1, 1, 1, 1, 1, 1, 1, 1, 1, 1, 1, 1,\n",
              "       1, 1, 1, 1, 1, 1, 1, 1, 1, 1, 1, 1, 1, 1, 1, 1, 1, 1, 1, 1, 1, 1,\n",
              "       1, 1, 1, 1, 1, 1, 1, 1, 1, 1, 1, 1, 1, 1, 1, 1, 1, 1, 1, 1, 1, 1,\n",
              "       1, 1, 1, 1, 1, 1, 1, 1, 1, 1, 1, 1, 1, 1, 1, 1, 1, 1, 1, 1, 1, 1,\n",
              "       1, 1, 1, 1, 1, 1, 1, 1, 1, 1, 1, 1, 1, 1, 1, 1, 1, 1, 1, 1, 1, 1,\n",
              "       1, 1])"
            ]
          },
          "execution_count": 73,
          "metadata": {},
          "output_type": "execute_result"
        }
      ],
      "source": [
        "traint.flatten()"
      ]
    },
    {
      "cell_type": "code",
      "execution_count": null,
      "metadata": {
        "id": "AGaWtf3J97dv",
        "outputId": "908b3e6d-8782-413b-c61b-eebbc97fd4e4"
      },
      "outputs": [
        {
          "name": "stdout",
          "output_type": "stream",
          "text": [
            "375\n",
            "375\n"
          ]
        }
      ],
      "source": [
        "for i in range(2):\n",
        "  print(np.count_nonzero(traint == i))"
      ]
    },
    {
      "cell_type": "code",
      "execution_count": null,
      "metadata": {
        "id": "E0VJKXmZ97dv",
        "outputId": "d62cd740-af57-4024-8a02-d7b74f2a2454"
      },
      "outputs": [
        {
          "name": "stdout",
          "output_type": "stream",
          "text": [
            "11000\n"
          ]
        }
      ],
      "source": [
        "print(len(dataset))"
      ]
    },
    {
      "cell_type": "code",
      "execution_count": null,
      "metadata": {
        "id": "y2eX_mxS97dv",
        "outputId": "88e44114-f6e3-49a0-b9c8-1a088a3880d0"
      },
      "outputs": [
        {
          "name": "stdout",
          "output_type": "stream",
          "text": [
            "(200, 300, 3)\n"
          ]
        }
      ],
      "source": [
        "print(dataset[0][0].shape)"
      ]
    }
  ],
  "metadata": {
    "kernelspec": {
      "display_name": "Python 3.10.2 64-bit",
      "language": "python",
      "name": "python3"
    },
    "language_info": {
      "codemirror_mode": {
        "name": "ipython",
        "version": 3
      },
      "file_extension": ".py",
      "mimetype": "text/x-python",
      "name": "python",
      "nbconvert_exporter": "python",
      "pygments_lexer": "ipython3",
      "version": "3.10.2"
    },
    "orig_nbformat": 4,
    "vscode": {
      "interpreter": {
        "hash": "fbc768028c3e6ead51d9a200ddcb2ec858ae62844dcd1994729a8279be9b48f2"
      }
    },
    "colab": {
      "provenance": []
    }
  },
  "nbformat": 4,
  "nbformat_minor": 0
}