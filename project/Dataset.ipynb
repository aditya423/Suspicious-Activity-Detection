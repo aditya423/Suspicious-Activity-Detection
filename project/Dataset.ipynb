{
  "cells": [
    {
      "cell_type": "code",
      "execution_count": 1,
      "metadata": {
        "id": "-NI85lry97dp"
      },
      "outputs": [],
      "source": [
        "import math\n",
        "import os\n",
        "import random\n",
        "import cv2\n",
        "import numpy as np"
      ]
    },
    {
      "cell_type": "markdown",
      "metadata": {
        "id": "FfexMS8XTNhY"
      },
      "source": [
        "from google.colab import drive\n",
        "drive.mount('/content/drive')"
      ]
    },
    {
      "cell_type": "code",
      "execution_count": null,
      "metadata": {},
      "outputs": [],
      "source": [
        "from google.colab import drive\n",
        "drive.mount('/content/drive')"
      ]
    },
    {
      "cell_type": "code",
      "execution_count": null,
      "metadata": {
        "id": "DP8py8ohOwPJ"
      },
      "outputs": [],
      "source": [
        "headpath = \"/content/drive/MyDrive/Final_Project/Dataset 2\""
      ]
    },
    {
      "cell_type": "code",
      "execution_count": 1,
      "metadata": {
        "colab": {
          "base_uri": "https://localhost:8080/",
          "height": 304
        },
        "id": "wUKp_7Tw97dq",
        "outputId": "04116b13-08a5-4b4d-aa1e-0f8e9e968d47"
      },
      "outputs": [],
      "source": [
        "import Augmentor"
      ]
    },
    {
      "cell_type": "code",
      "execution_count": null,
      "metadata": {
        "id": "xhFmBuju97dq",
        "outputId": "3b8f635d-2bae-435f-95bc-0e7b72a11199"
      },
      "outputs": [
        {
          "name": "stdout",
          "output_type": "stream",
          "text": [
            "Initialised with 5 image(s) found.\n",
            "Output directory set to D:\\Dataset of currency\\Normalized dataset\\Complete Dataset\\test\\output."
          ]
        }
      ],
      "source": [
        "p = Augmentor.Pipeline(r\"D:\\Dataset of currency\\Currency vs non currency\")"
      ]
    },
    {
      "cell_type": "code",
      "execution_count": null,
      "metadata": {
        "id": "iDopaDqX97dr"
      },
      "outputs": [],
      "source": [
        "p.resize(probability=1,width=300,height=200)\n",
        "p.rotate180(probability=0.5)\n",
        "p.shear(probability=0.5,max_shear_left=15,max_shear_right=15)\n",
        "p.flip_random(probability=0.5)\n",
        "p.random_brightness(probability=0.5,min_factor=0.8,max_factor=1.2)\n",
        "p.skew(probability=0.5,magnitude=0.2)"
      ]
    },
    {
      "cell_type": "code",
      "execution_count": null,
      "metadata": {
        "id": "tt_2UfA997dr",
        "outputId": "1aa78999-9c29-4f77-a820-bf6b3cfcba65"
      },
      "outputs": [
        {
          "name": "stderr",
          "output_type": "stream",
          "text": [
            "Processing <PIL.Image.Image image mode=RGB size=300x200 at 0x27BECADCAF0>: 100%|██████████| 100/100 [00:00<00:00, 217.83 Samples/s]\n"
          ]
        }
      ],
      "source": [
        "p.sample(100)"
      ]
    },
    {
      "cell_type": "code",
      "execution_count": null,
      "metadata": {
        "colab": {
          "base_uri": "https://localhost:8080/"
        },
        "id": "Hzrsv8bj97dr",
        "outputId": "96fc691c-6ac4-4c18-c7af-4845d09dfe94"
      },
      "outputs": [
        {
          "name": "stdout",
          "output_type": "stream",
          "text": [
            "/content/drive/MyDrive/Final_Project/Dataset 2\n",
            "['abnormal', 'normal']\n"
          ]
        }
      ],
      "source": [
        "# headpath = os.getcwd()\n",
        "list = os.listdir(os.path.join(headpath))\n",
        "countdict = {}\n",
        "roundcountdict = {}\n",
        "factors = {}\n",
        "print(headpath)\n",
        "print(list)"
      ]
    },
    {
      "cell_type": "code",
      "execution_count": null,
      "metadata": {
        "colab": {
          "base_uri": "https://localhost:8080/"
        },
        "id": "EzXtOJyy97ds",
        "outputId": "390d73b4-d672-4668-b818-224395ea9ebf"
      },
      "outputs": [
        {
          "name": "stdout",
          "output_type": "stream",
          "text": [
            "abnormal 3\n",
            "normal 3\n"
          ]
        }
      ],
      "source": [
        "for i in list:\n",
        "\tactual_count = len(os.listdir(os.path.join(headpath,i)))\n",
        "\tcountdict[i] = actual_count\n",
        "\n",
        "for i in countdict.keys():\n",
        "\tprint(i,countdict[i])"
      ]
    },
    {
      "cell_type": "code",
      "execution_count": null,
      "metadata": {
        "id": "BQHtuE_Q97dt"
      },
      "outputs": [],
      "source": [
        "for folder,count in countdict.items():\n",
        "\ttrain = round(count*0.7)\n",
        "\tval = (count - train)//2\n",
        "\ttest = val\n",
        "\n",
        "\timages = os.listdir(folder)\n",
        "\trandom.shuffle(images)\n",
        "\ttrainimg = images[:train]\n",
        "\tvalimg = images[train:train+val]\n",
        "\ttestimg = images[train+val:]\n",
        "\n",
        "\tfor i in [\"Train\",\"Val\",\"Test\"]:\n",
        "\t\tif not os.path.exists(os.path.join(headpath,folder,i)):\n",
        "\t\t\tos.mkdir(os.path.join(headpath,folder,i))\n",
        "\n",
        "\tfor i in trainimg:\n",
        "\t\tos.replace(os.path.join(headpath,folder,i),os.path.join(headpath,folder,\"Train\",i))\n",
        "\t\n",
        "\tfor i in valimg:\n",
        "\t\tos.replace(os.path.join(headpath,folder,i),os.path.join(headpath,folder,\"Val\",i))\n",
        "\n",
        "\tfor i in testimg:\n",
        "\t\tos.replace(os.path.join(headpath,folder,i),os.path.join(headpath,folder,\"Test\",i))\t"
      ]
    },
    {
      "cell_type": "code",
      "execution_count": null,
      "metadata": {
        "id": "S2fM86Xs97dt"
      },
      "outputs": [],
      "source": [
        "costdict = {\"Train\":1750,\"Val\":375,\"Test\":375}"
      ]
    },
    {
      "cell_type": "code",
      "execution_count": null,
      "metadata": {},
      "outputs": [],
      "source": [
        "for folder in countdict.keys():\n",
        "\tfor categoryfolder,samples in costdict.items():\n",
        "\t\tprint(f\"For {folder} {categoryfolder}:\")\n",
        "\t\tp = Augmentor.Pipeline(os.path.join(headpath,folder,categoryfolder))\n",
        "\t\tp.resize(probability=1,width=300,height=200)\n",
        "\t\tp.rotate180(probability=0.5)\n",
        "\t\tp.shear(probability=0.5,max_shear_left=15,max_shear_right=15)\n",
        "\t\tp.flip_random(probability=0.5)\n",
        "\t\tp.random_brightness(probability=0.7,min_factor=0.8,max_factor=1.2)\n",
        "\t\tp.sample(samples)"
      ]
    },
    {
      "cell_type": "code",
      "execution_count": null,
      "metadata": {
        "id": "mHZuRVwO97du"
      },
      "outputs": [],
      "source": [
        "labellist = ['Normal', 'Abnormal']"
      ]
    },
    {
      "cell_type": "code",
      "execution_count": null,
      "metadata": {
        "colab": {
          "base_uri": "https://localhost:8080/"
        },
        "id": "14FREjH997du",
        "outputId": "fbbd993e-50c5-4785-b86f-07319775ab2f"
      },
      "outputs": [
        {
          "name": "stdout",
          "output_type": "stream",
          "text": [
            "Train\n",
            "Val\n",
            "Test\n"
          ]
        }
      ],
      "source": [
        "for category in [\"Train\",\"Val\",\"Test\"]:\n",
        "\tprint(category)\n",
        "\tmainArray = []\n",
        "\tfor folder in countdict.keys():\n",
        "\t\tlabel = labellist.index(folder)\n",
        "\t\t# print(f\"Processing {folder} {label}:\")\n",
        "\t\tlabel = np.array([label])\n",
        "\t\timages = os.listdir(os.path.join(headpath,folder,category,\"output\"))\n",
        "\t\tprint(len(images))\n",
        "\t\tfor image in images:\n",
        "\t\t\ttry:\n",
        "\t\t\t\timg = cv2.imread(os.path.join(headpath,folder,category,\"output\",image))\n",
        "\t\t\t\timg = cv2.cvtColor(img,cv2.COLOR_BGR2RGB)\n",
        "\t\t\t\timg = np.array(img)\n",
        "\t\t\t\tmainArray.append([img,label])\n",
        "\t\t\texcept Exception as e:\n",
        "\t\t\t\tprint(image,e)\n",
        "\t\tnp.save(f\"{category}.npy\",mainArray)"
      ]
    }
  ],
  "metadata": {
    "colab": {
      "provenance": []
    },
    "kernelspec": {
      "display_name": "Python 3.10.2 64-bit",
      "language": "python",
      "name": "python3"
    },
    "language_info": {
      "codemirror_mode": {
        "name": "ipython",
        "version": 3
      },
      "file_extension": ".py",
      "mimetype": "text/x-python",
      "name": "python",
      "nbconvert_exporter": "python",
      "pygments_lexer": "ipython3",
      "version": "3.9.7"
    },
    "orig_nbformat": 4,
    "vscode": {
      "interpreter": {
        "hash": "fbc768028c3e6ead51d9a200ddcb2ec858ae62844dcd1994729a8279be9b48f2"
      }
    }
  },
  "nbformat": 4,
  "nbformat_minor": 0
}
