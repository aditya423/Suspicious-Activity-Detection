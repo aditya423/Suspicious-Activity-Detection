{
 "cells": [
  {
   "cell_type": "code",
   "execution_count": 1,
   "metadata": {},
   "outputs": [],
   "source": [
    "import math\n",
    "import os\n",
    "import random\n",
    "import cv2\n",
    "import numpy as np\n",
    "import Augmentor"
   ]
  },
  {
   "cell_type": "code",
   "execution_count": 2,
   "metadata": {},
   "outputs": [
    {
     "name": "stdout",
     "output_type": "stream",
     "text": [
      "Headpath : d:\\Dataset of currency\\Denomination\n",
      "Categories : ['10-New', '10-Old', '100-New', '100-Old', '20-New', '20-Old', '200', '2000', '50-New', '50-Old', '500']\n"
     ]
    }
   ],
   "source": [
    "headpath = os.getcwd()\n",
    "list = os.listdir()\n",
    "for i in [\"dataset.ipynb\",\"Test.npy\",\"Train.npy\",\"Val.npy\"]:\n",
    "\ttry:\n",
    "\t\tlist.remove(i)\n",
    "\texcept Exception as error:\n",
    "\t\tpass\n",
    "countdict = {}\n",
    "print(f\"Headpath : {headpath}\")\n",
    "print(f\"Categories : {list}\")"
   ]
  },
  {
   "cell_type": "code",
   "execution_count": 9,
   "metadata": {},
   "outputs": [
    {
     "name": "stdout",
     "output_type": "stream",
     "text": [
      "10-New 3\n",
      "10-Old 3\n",
      "100-New 3\n",
      "100-Old 3\n",
      "20-New 3\n",
      "20-Old 3\n",
      "200 3\n",
      "2000 3\n",
      "50-New 3\n",
      "50-Old 3\n",
      "500 3\n"
     ]
    }
   ],
   "source": [
    "for i in list:\n",
    "\tactual_count = len(os.listdir(os.path.join(headpath,i)))\n",
    "\tcountdict[i] = actual_count\n",
    "\n",
    "for i in countdict.keys():\n",
    "\tprint(i,countdict[i])"
   ]
  },
  {
   "cell_type": "code",
   "execution_count": 4,
   "metadata": {},
   "outputs": [
    {
     "name": "stdout",
     "output_type": "stream",
     "text": [
      "Images in 10-New : 200\n",
      "Images in 10-Old : 271\n",
      "Images in 100-New : 229\n",
      "Images in 100-Old : 118\n",
      "Images in 20-New : 113\n",
      "Images in 20-Old : 301\n",
      "Images in 200 : 366\n",
      "Images in 2000 : 205\n",
      "Images in 50-New : 172\n",
      "Images in 50-Old : 129\n",
      "Images in 500 : 203\n"
     ]
    }
   ],
   "source": [
    "for folder in countdict.keys():\n",
    "\timages = os.listdir(os.path.join(headpath,folder))\n",
    "\tprint(f\"Images in {folder} : {len(images)}\")\n",
    "\tfor image in images:\n",
    "\t\ttry:\n",
    "\t\t\timg = cv2.imread(os.path.join(headpath,folder,image))\n",
    "\t\t\tif img.shape[0] > img.shape[1]:\n",
    "\t\t\t\timg = cv2.rotate(img,cv2.ROTATE_90_COUNTERCLOCKWISE)\n",
    "\t\t\t\tcv2.imwrite(os.path.join(headpath,folder,image),img)\n",
    "\t\texcept Exception as error:\n",
    "\t\t\tprint(image,error)"
   ]
  },
  {
   "cell_type": "code",
   "execution_count": 5,
   "metadata": {},
   "outputs": [
    {
     "name": "stdout",
     "output_type": "stream",
     "text": [
      "Images in 10-New : 200\n",
      "Images in 10-Old : 271\n",
      "Images in 100-New : 229\n",
      "Images in 100-Old : 118\n",
      "Images in 20-New : 113\n",
      "Images in 20-Old : 301\n",
      "Images in 200 : 366\n",
      "Images in 2000 : 205\n",
      "Images in 50-New : 172\n",
      "Images in 50-Old : 129\n",
      "Images in 500 : 203\n"
     ]
    }
   ],
   "source": [
    "for folder in countdict.keys():\n",
    "\timages = os.listdir(os.path.join(headpath,folder))\n",
    "\tprint(f\"Images in {folder} : {len(images)}\")\n",
    "\tfor image in images:\n",
    "\t\ttry:\n",
    "\t\t\timg = cv2.imread(os.path.join(headpath,folder,image))\n",
    "\t\t\timg = cv2.resize(img,(300,200))\n",
    "\t\t\tcv2.imwrite(os.path.join(headpath,folder,image),img)\n",
    "\t\texcept Exception as e:\n",
    "\t\t\tprint(image,e)"
   ]
  },
  {
   "cell_type": "code",
   "execution_count": 6,
   "metadata": {},
   "outputs": [],
   "source": [
    "for folder,count in countdict.items():\n",
    "\ttrain = round(count*0.7)\n",
    "\tval = (count - train)//2\n",
    "\ttest = val\n",
    "\n",
    "\timages = os.listdir(folder)\n",
    "\trandom.shuffle(images)\n",
    "\ttrainimg = images[:train]\n",
    "\tvalimg = images[train:train+val]\n",
    "\ttestimg = images[train+val:]\n",
    "\n",
    "\tfor i in [\"Train\",\"Val\",\"Test\"]:\n",
    "\t\tif not os.path.exists(os.path.join(headpath,folder,i)):\n",
    "\t\t\tos.mkdir(os.path.join(headpath,folder,i))\n",
    "\n",
    "\tfor i in trainimg:\n",
    "\t\tos.replace(os.path.join(headpath,folder,i),os.path.join(headpath,folder,\"Train\",i))\n",
    "\t\n",
    "\tfor i in valimg:\n",
    "\t\tos.replace(os.path.join(headpath,folder,i),os.path.join(headpath,folder,\"Val\",i))\n",
    "\n",
    "\tfor i in testimg:\n",
    "\t\tos.replace(os.path.join(headpath,folder,i),os.path.join(headpath,folder,\"Test\",i))\t"
   ]
  },
  {
   "cell_type": "code",
   "execution_count": 3,
   "metadata": {},
   "outputs": [],
   "source": [
    "costdict = {\"Train\":700,\"Val\":150,\"Test\":150}"
   ]
  },
  {
   "cell_type": "code",
   "execution_count": 5,
   "metadata": {},
   "outputs": [
    {
     "name": "stdout",
     "output_type": "stream",
     "text": [
      "For 10-New Train:\n",
      "Initialised with 140 image(s) found.\n",
      "Output directory set to d:\\Dataset of currency\\Denomination\\10-New\\Train\\output."
     ]
    },
    {
     "name": "stderr",
     "output_type": "stream",
     "text": [
      "Processing <PIL.JpegImagePlugin.JpegImageFile image mode=RGB size=300x200 at 0x1D4B9F0C310>: 100%|██████████| 700/700 [00:04<00:00, 171.22 Samples/s]\n"
     ]
    },
    {
     "name": "stdout",
     "output_type": "stream",
     "text": [
      "For 10-New Val:\n",
      "Initialised with 30 image(s) found.\n",
      "Output directory set to d:\\Dataset of currency\\Denomination\\10-New\\Val\\output."
     ]
    },
    {
     "name": "stderr",
     "output_type": "stream",
     "text": [
      "Processing <PIL.Image.Image image mode=RGB size=300x200 at 0x1D4B9EF84C0>: 100%|██████████| 150/150 [00:00<00:00, 188.83 Samples/s]                  \n"
     ]
    },
    {
     "name": "stdout",
     "output_type": "stream",
     "text": [
      "For 10-New Test:\n",
      "Initialised with 30 image(s) found.\n",
      "Output directory set to d:\\Dataset of currency\\Denomination\\10-New\\Test\\output."
     ]
    },
    {
     "name": "stderr",
     "output_type": "stream",
     "text": [
      "Processing <PIL.Image.Image image mode=RGB size=300x200 at 0x1D4A8BB5A50>: 100%|██████████| 150/150 [00:00<00:00, 215.34 Samples/s]                  \n"
     ]
    },
    {
     "name": "stdout",
     "output_type": "stream",
     "text": [
      "For 10-Old Train:\n",
      "Initialised with 190 image(s) found.\n",
      "Output directory set to d:\\Dataset of currency\\Denomination\\10-Old\\Train\\output."
     ]
    },
    {
     "name": "stderr",
     "output_type": "stream",
     "text": [
      "Processing <PIL.Image.Image image mode=RGB size=300x200 at 0x1D4B9E95AE0>: 100%|██████████| 700/700 [00:03<00:00, 186.86 Samples/s]                  \n"
     ]
    },
    {
     "name": "stdout",
     "output_type": "stream",
     "text": [
      "For 10-Old Val:\n",
      "Initialised with 40 image(s) found.\n",
      "Output directory set to d:\\Dataset of currency\\Denomination\\10-Old\\Val\\output."
     ]
    },
    {
     "name": "stderr",
     "output_type": "stream",
     "text": [
      "Processing <PIL.Image.Image image mode=RGB size=300x200 at 0x1D4B9E7AF50>: 100%|██████████| 150/150 [00:00<00:00, 196.69 Samples/s]\n"
     ]
    },
    {
     "name": "stdout",
     "output_type": "stream",
     "text": [
      "For 10-Old Test:\n",
      "Initialised with 41 image(s) found.\n",
      "Output directory set to d:\\Dataset of currency\\Denomination\\10-Old\\Test\\output."
     ]
    },
    {
     "name": "stderr",
     "output_type": "stream",
     "text": [
      "Processing <PIL.Image.Image image mode=RGB size=300x200 at 0x1D4B9E94A90>: 100%|██████████| 150/150 [00:00<00:00, 196.21 Samples/s]                  \n"
     ]
    },
    {
     "name": "stdout",
     "output_type": "stream",
     "text": [
      "For 100-New Train:\n",
      "Initialised with 160 image(s) found.\n",
      "Output directory set to d:\\Dataset of currency\\Denomination\\100-New\\Train\\output."
     ]
    },
    {
     "name": "stderr",
     "output_type": "stream",
     "text": [
      "Processing <PIL.Image.Image image mode=RGB size=300x200 at 0x1D4B9F0CAF0>: 100%|██████████| 700/700 [00:03<00:00, 192.00 Samples/s]                  \n"
     ]
    },
    {
     "name": "stdout",
     "output_type": "stream",
     "text": [
      "For 100-New Val:\n",
      "Initialised with 34 image(s) found.\n",
      "Output directory set to d:\\Dataset of currency\\Denomination\\100-New\\Val\\output."
     ]
    },
    {
     "name": "stderr",
     "output_type": "stream",
     "text": [
      "Processing <PIL.Image.Image image mode=RGB size=300x200 at 0x1D4B9EFB8B0>: 100%|██████████| 150/150 [00:00<00:00, 188.62 Samples/s]                  \n"
     ]
    },
    {
     "name": "stdout",
     "output_type": "stream",
     "text": [
      "For 100-New Test:\n",
      "Initialised with 35 image(s) found.\n",
      "Output directory set to d:\\Dataset of currency\\Denomination\\100-New\\Test\\output."
     ]
    },
    {
     "name": "stderr",
     "output_type": "stream",
     "text": [
      "Processing <PIL.Image.Image image mode=RGB size=300x200 at 0x1D4A8BB5840>: 100%|██████████| 150/150 [00:00<00:00, 191.34 Samples/s]                  \n"
     ]
    },
    {
     "name": "stdout",
     "output_type": "stream",
     "text": [
      "For 100-Old Train:\n",
      "Initialised with 83 image(s) found.\n",
      "Output directory set to d:\\Dataset of currency\\Denomination\\100-Old\\Train\\output."
     ]
    },
    {
     "name": "stderr",
     "output_type": "stream",
     "text": [
      "Processing <PIL.Image.Image image mode=RGB size=300x200 at 0x1D4B9E97790>: 100%|██████████| 700/700 [00:03<00:00, 210.29 Samples/s]                  \n"
     ]
    },
    {
     "name": "stdout",
     "output_type": "stream",
     "text": [
      "For 100-Old Val:\n",
      "Initialised with 17 image(s) found.\n",
      "Output directory set to d:\\Dataset of currency\\Denomination\\100-Old\\Val\\output."
     ]
    },
    {
     "name": "stderr",
     "output_type": "stream",
     "text": [
      "Processing <PIL.Image.Image image mode=RGB size=300x200 at 0x1D4B9E7B970>: 100%|██████████| 150/150 [00:00<00:00, 153.57 Samples/s]                \n"
     ]
    },
    {
     "name": "stdout",
     "output_type": "stream",
     "text": [
      "For 100-Old Test:\n",
      "Initialised with 18 image(s) found.\n",
      "Output directory set to d:\\Dataset of currency\\Denomination\\100-Old\\Test\\output."
     ]
    },
    {
     "name": "stderr",
     "output_type": "stream",
     "text": [
      "Processing <PIL.Image.Image image mode=RGB size=300x200 at 0x1D4B9CE2CB0>: 100%|██████████| 150/150 [00:01<00:00, 117.80 Samples/s]                 \n"
     ]
    },
    {
     "name": "stdout",
     "output_type": "stream",
     "text": [
      "For 20-New Train:\n",
      "Initialised with 79 image(s) found.\n",
      "Output directory set to d:\\Dataset of currency\\Denomination\\20-New\\Train\\output."
     ]
    },
    {
     "name": "stderr",
     "output_type": "stream",
     "text": [
      "Processing <PIL.Image.Image image mode=RGB size=300x200 at 0x1D4B9ED9D50>: 100%|██████████| 700/700 [00:03<00:00, 189.68 Samples/s]                  \n"
     ]
    },
    {
     "name": "stdout",
     "output_type": "stream",
     "text": [
      "For 20-New Val:\n",
      "Initialised with 17 image(s) found.\n",
      "Output directory set to d:\\Dataset of currency\\Denomination\\20-New\\Val\\output."
     ]
    },
    {
     "name": "stderr",
     "output_type": "stream",
     "text": [
      "Processing <PIL.Image.Image image mode=RGB size=300x200 at 0x1D4B9CE38B0>: 100%|██████████| 150/150 [00:00<00:00, 215.56 Samples/s]\n"
     ]
    },
    {
     "name": "stdout",
     "output_type": "stream",
     "text": [
      "For 20-New Test:\n",
      "Initialised with 17 image(s) found.\n",
      "Output directory set to d:\\Dataset of currency\\Denomination\\20-New\\Test\\output."
     ]
    },
    {
     "name": "stderr",
     "output_type": "stream",
     "text": [
      "Processing <PIL.Image.Image image mode=RGB size=300x200 at 0x1D4A8BB5A80>: 100%|██████████| 150/150 [00:00<00:00, 175.83 Samples/s]                \n"
     ]
    },
    {
     "name": "stdout",
     "output_type": "stream",
     "text": [
      "For 20-Old Train:\n",
      "Initialised with 211 image(s) found.\n",
      "Output directory set to d:\\Dataset of currency\\Denomination\\20-Old\\Train\\output."
     ]
    },
    {
     "name": "stderr",
     "output_type": "stream",
     "text": [
      "Processing <PIL.Image.Image image mode=RGB size=300x200 at 0x1D4B9E96230>: 100%|██████████| 700/700 [00:03<00:00, 188.68 Samples/s]                  \n"
     ]
    },
    {
     "name": "stdout",
     "output_type": "stream",
     "text": [
      "For 20-Old Val:\n",
      "Initialised with 45 image(s) found.\n",
      "Output directory set to d:\\Dataset of currency\\Denomination\\20-Old\\Val\\output."
     ]
    },
    {
     "name": "stderr",
     "output_type": "stream",
     "text": [
      "Processing <PIL.Image.Image image mode=RGB size=300x200 at 0x1D4A8BB59C0>: 100%|██████████| 150/150 [00:00<00:00, 180.49 Samples/s]                  \n"
     ]
    },
    {
     "name": "stdout",
     "output_type": "stream",
     "text": [
      "For 20-Old Test:\n",
      "Initialised with 45 image(s) found.\n",
      "Output directory set to d:\\Dataset of currency\\Denomination\\20-Old\\Test\\output."
     ]
    },
    {
     "name": "stderr",
     "output_type": "stream",
     "text": [
      "Processing <PIL.Image.Image image mode=RGB size=300x200 at 0x1D4B9E94790>: 100%|██████████| 150/150 [00:00<00:00, 154.27 Samples/s]                  \n"
     ]
    },
    {
     "name": "stdout",
     "output_type": "stream",
     "text": [
      "For 200 Train:\n",
      "Initialised with 256 image(s) found.\n",
      "Output directory set to d:\\Dataset of currency\\Denomination\\200\\Train\\output."
     ]
    },
    {
     "name": "stderr",
     "output_type": "stream",
     "text": [
      "Processing <PIL.JpegImagePlugin.JpegImageFile image mode=RGB size=300x200 at 0x1D4B9CE3B20>: 100%|██████████| 700/700 [00:03<00:00, 176.20 Samples/s]\n"
     ]
    },
    {
     "name": "stdout",
     "output_type": "stream",
     "text": [
      "For 200 Val:\n",
      "Initialised with 55 image(s) found.\n",
      "Output directory set to d:\\Dataset of currency\\Denomination\\200\\Val\\output."
     ]
    },
    {
     "name": "stderr",
     "output_type": "stream",
     "text": [
      "Processing <PIL.Image.Image image mode=RGB size=300x200 at 0x1D4B9E5FA00>: 100%|██████████| 150/150 [00:00<00:00, 178.35 Samples/s]                \n"
     ]
    },
    {
     "name": "stdout",
     "output_type": "stream",
     "text": [
      "For 200 Test:\n",
      "Initialised with 55 image(s) found.\n",
      "Output directory set to d:\\Dataset of currency\\Denomination\\200\\Test\\output."
     ]
    },
    {
     "name": "stderr",
     "output_type": "stream",
     "text": [
      "Processing <PIL.Image.Image image mode=RGB size=300x200 at 0x1D4B9E95570>: 100%|██████████| 150/150 [00:00<00:00, 203.21 Samples/s]                \n"
     ]
    },
    {
     "name": "stdout",
     "output_type": "stream",
     "text": [
      "For 2000 Train:\n",
      "Initialised with 144 image(s) found.\n",
      "Output directory set to d:\\Dataset of currency\\Denomination\\2000\\Train\\output."
     ]
    },
    {
     "name": "stderr",
     "output_type": "stream",
     "text": [
      "Processing <PIL.Image.Image image mode=RGB size=300x200 at 0x1D4A8BB56F0>: 100%|██████████| 700/700 [00:04<00:00, 160.20 Samples/s]                  \n"
     ]
    },
    {
     "name": "stdout",
     "output_type": "stream",
     "text": [
      "For 2000 Val:\n",
      "Initialised with 30 image(s) found.\n",
      "Output directory set to d:\\Dataset of currency\\Denomination\\2000\\Val\\output."
     ]
    },
    {
     "name": "stderr",
     "output_type": "stream",
     "text": [
      "Processing <PIL.Image.Image image mode=RGB size=300x200 at 0x1D4B9EE0F40>: 100%|██████████| 150/150 [00:00<00:00, 183.38 Samples/s]                  \n"
     ]
    },
    {
     "name": "stdout",
     "output_type": "stream",
     "text": [
      "For 2000 Test:\n",
      "Initialised with 31 image(s) found.\n",
      "Output directory set to d:\\Dataset of currency\\Denomination\\2000\\Test\\output."
     ]
    },
    {
     "name": "stderr",
     "output_type": "stream",
     "text": [
      "Processing <PIL.Image.Image image mode=RGB size=300x200 at 0x1D4B9E7BD90>: 100%|██████████| 150/150 [00:00<00:00, 167.34 Samples/s]                \n"
     ]
    },
    {
     "name": "stdout",
     "output_type": "stream",
     "text": [
      "For 50-New Train:\n",
      "Initialised with 120 image(s) found.\n",
      "Output directory set to d:\\Dataset of currency\\Denomination\\50-New\\Train\\output."
     ]
    },
    {
     "name": "stderr",
     "output_type": "stream",
     "text": [
      "Processing <PIL.Image.Image image mode=RGB size=300x200 at 0x1D4B9E94280>: 100%|██████████| 700/700 [00:03<00:00, 198.31 Samples/s]                  \n"
     ]
    },
    {
     "name": "stdout",
     "output_type": "stream",
     "text": [
      "For 50-New Val:\n",
      "Initialised with 26 image(s) found.\n",
      "Output directory set to d:\\Dataset of currency\\Denomination\\50-New\\Val\\output."
     ]
    },
    {
     "name": "stderr",
     "output_type": "stream",
     "text": [
      "Processing <PIL.Image.Image image mode=RGB size=300x200 at 0x1D4B9E5FD60>: 100%|██████████| 150/150 [00:00<00:00, 178.72 Samples/s]                 \n"
     ]
    },
    {
     "name": "stdout",
     "output_type": "stream",
     "text": [
      "For 50-New Test:\n",
      "Initialised with 26 image(s) found.\n",
      "Output directory set to d:\\Dataset of currency\\Denomination\\50-New\\Test\\output."
     ]
    },
    {
     "name": "stderr",
     "output_type": "stream",
     "text": [
      "Processing <PIL.Image.Image image mode=RGB size=300x200 at 0x1D4B9E96770>: 100%|██████████| 150/150 [00:00<00:00, 195.99 Samples/s]                  \n"
     ]
    },
    {
     "name": "stdout",
     "output_type": "stream",
     "text": [
      "For 50-Old Train:\n",
      "Initialised with 90 image(s) found.\n",
      "Output directory set to d:\\Dataset of currency\\Denomination\\50-Old\\Train\\output."
     ]
    },
    {
     "name": "stderr",
     "output_type": "stream",
     "text": [
      "Processing <PIL.Image.Image image mode=RGB size=300x200 at 0x1D4A8BB4E20>: 100%|██████████| 700/700 [00:04<00:00, 171.68 Samples/s]                  \n"
     ]
    },
    {
     "name": "stdout",
     "output_type": "stream",
     "text": [
      "For 50-Old Val:\n",
      "Initialised with 19 image(s) found.\n",
      "Output directory set to d:\\Dataset of currency\\Denomination\\50-Old\\Val\\output."
     ]
    },
    {
     "name": "stderr",
     "output_type": "stream",
     "text": [
      "Processing <PIL.Image.Image image mode=RGB size=300x200 at 0x1D4B9EE0BB0>: 100%|██████████| 150/150 [00:00<00:00, 152.75 Samples/s]                  \n"
     ]
    },
    {
     "name": "stdout",
     "output_type": "stream",
     "text": [
      "For 50-Old Test:\n",
      "Initialised with 20 image(s) found.\n",
      "Output directory set to d:\\Dataset of currency\\Denomination\\50-Old\\Test\\output."
     ]
    },
    {
     "name": "stderr",
     "output_type": "stream",
     "text": [
      "Processing <PIL.Image.Image image mode=RGB size=300x200 at 0x1D4A8BB5480>: 100%|██████████| 150/150 [00:00<00:00, 157.61 Samples/s]                \n"
     ]
    },
    {
     "name": "stdout",
     "output_type": "stream",
     "text": [
      "For 500 Train:\n",
      "Initialised with 142 image(s) found.\n",
      "Output directory set to d:\\Dataset of currency\\Denomination\\500\\Train\\output."
     ]
    },
    {
     "name": "stderr",
     "output_type": "stream",
     "text": [
      "Processing <PIL.Image.Image image mode=RGB size=300x200 at 0x1D4B9E96710>: 100%|██████████| 700/700 [00:03<00:00, 214.83 Samples/s]                  \n"
     ]
    },
    {
     "name": "stdout",
     "output_type": "stream",
     "text": [
      "For 500 Val:\n",
      "Initialised with 30 image(s) found.\n",
      "Output directory set to d:\\Dataset of currency\\Denomination\\500\\Val\\output."
     ]
    },
    {
     "name": "stderr",
     "output_type": "stream",
     "text": [
      "Processing <PIL.Image.Image image mode=RGB size=300x200 at 0x1D4B9E5D1B0>: 100%|██████████| 150/150 [00:00<00:00, 209.63 Samples/s]                  \n"
     ]
    },
    {
     "name": "stdout",
     "output_type": "stream",
     "text": [
      "For 500 Test:\n",
      "Initialised with 31 image(s) found.\n",
      "Output directory set to d:\\Dataset of currency\\Denomination\\500\\Test\\output."
     ]
    },
    {
     "name": "stderr",
     "output_type": "stream",
     "text": [
      "Processing <PIL.Image.Image image mode=RGB size=300x200 at 0x1D4B9E97340>: 100%|██████████| 150/150 [00:00<00:00, 209.23 Samples/s]\n"
     ]
    }
   ],
   "source": [
    "for folder in countdict.keys():\n",
    "\tfor categoryfolder,samples in costdict.items():\n",
    "\t\tprint(f\"For {folder} {categoryfolder}:\")\n",
    "\t\tp = Augmentor.Pipeline(os.path.join(headpath,folder,categoryfolder))\n",
    "\t\tp.rotate180(probability=0.5)\n",
    "\t\tp.shear(probability=0.5,max_shear_left=10,max_shear_right=10)\n",
    "\t\tp.flip_left_right(probability=0.5)\n",
    "\t\tp.random_contrast(probability=0.3,min_factor=0.7,max_factor=1)\n",
    "\t\tp.random_brightness(probability=0.7,min_factor=0.8,max_factor=1.2)\n",
    "\t\tp.sample(samples)"
   ]
  },
  {
   "cell_type": "code",
   "execution_count": 7,
   "metadata": {},
   "outputs": [
    {
     "name": "stdout",
     "output_type": "stream",
     "text": [
      "Images in 10-New Train : 700\n",
      "Images in 10-Old Train : 700\n",
      "Images in 100-New Train : 700\n",
      "Images in 100-Old Train : 700\n",
      "Images in 20-New Train : 700\n",
      "Images in 20-Old Train : 700\n",
      "Images in 200 Train : 700\n",
      "Images in 2000 Train : 700\n",
      "Images in 50-New Train : 700\n",
      "Images in 50-Old Train : 700\n",
      "Images in 500 Train : 700\n",
      "Images in 10-New Val : 150\n",
      "Images in 10-Old Val : 150\n",
      "Images in 100-New Val : 150\n",
      "Images in 100-Old Val : 150\n",
      "Images in 20-New Val : 150\n",
      "Images in 20-Old Val : 150\n",
      "Images in 200 Val : 150\n",
      "Images in 2000 Val : 150\n",
      "Images in 50-New Val : 150\n",
      "Images in 50-Old Val : 150\n",
      "Images in 500 Val : 150\n",
      "Images in 10-New Test : 150\n",
      "Images in 10-Old Test : 150\n",
      "Images in 100-New Test : 150\n",
      "Images in 100-Old Test : 150\n",
      "Images in 20-New Test : 150\n",
      "Images in 20-Old Test : 150\n",
      "Images in 200 Test : 150\n",
      "Images in 2000 Test : 150\n",
      "Images in 50-New Test : 150\n",
      "Images in 50-Old Test : 150\n",
      "Images in 500 Test : 150\n"
     ]
    }
   ],
   "source": [
    "for category in [\"Train\",\"Val\",\"Test\"]:\n",
    "\tfor folder in countdict.keys():\n",
    "\t\timages = os.listdir(os.path.join(headpath,folder,category,\"output\"))\n",
    "\t\tprint(f\"Images in {folder} {category} : {len(images)}\")\n",
    "\t\tfor image in images:\n",
    "\t\t\ttry:\n",
    "\t\t\t\timg = cv2.imread(os.path.join(headpath,folder,category,\"output\",image))\n",
    "\t\t\t\tif img.shape[0] > img.shape[1]:\n",
    "\t\t\t\t\timg = cv2.rotate(img,cv2.ROTATE_90_COUNTERCLOCKWISE)\n",
    "\t\t\t\t\tcv2.imwrite(os.path.join(headpath,folder,category,\"output\",image),img)\n",
    "\t\t\texcept Exception as error:\n",
    "\t\t\t\tprint(image,error)"
   ]
  },
  {
   "cell_type": "code",
   "execution_count": 11,
   "metadata": {},
   "outputs": [],
   "source": [
    "labellist = ['10-New', '10-Old', '100-New', '100-Old', '20-New', '20-Old', '200', '2000', '50-New', '50-Old', '500']"
   ]
  },
  {
   "cell_type": "code",
   "execution_count": 9,
   "metadata": {},
   "outputs": [
    {
     "name": "stdout",
     "output_type": "stream",
     "text": [
      "Train\n",
      "Processing 10-New 10-New:\n"
     ]
    },
    {
     "name": "stderr",
     "output_type": "stream",
     "text": [
      "c:\\Users\\DELL\\AppData\\Local\\Programs\\Python\\Python310\\lib\\site-packages\\numpy\\lib\\npyio.py:518: VisibleDeprecationWarning: Creating an ndarray from ragged nested sequences (which is a list-or-tuple of lists-or-tuples-or ndarrays with different lengths or shapes) is deprecated. If you meant to do this, you must specify 'dtype=object' when creating the ndarray.\n",
      "  arr = np.asanyarray(arr)\n"
     ]
    },
    {
     "name": "stdout",
     "output_type": "stream",
     "text": [
      "Processing 10-Old 10-Old:\n",
      "Processing 100-New 100-New:\n",
      "Processing 100-Old 100-Old:\n",
      "Processing 20-New 20-New:\n",
      "Processing 20-Old 20-Old:\n",
      "Processing 200 200:\n",
      "Processing 2000 2000:\n",
      "Processing 50-New 50-New:\n",
      "Processing 50-Old 50-Old:\n",
      "Processing 500 500:\n",
      "Val\n",
      "Processing 10-New 10-New:\n",
      "Processing 10-Old 10-Old:\n",
      "Processing 100-New 100-New:\n",
      "Processing 100-Old 100-Old:\n",
      "Processing 20-New 20-New:\n",
      "Processing 20-Old 20-Old:\n",
      "Processing 200 200:\n",
      "Processing 2000 2000:\n",
      "Processing 50-New 50-New:\n",
      "Processing 50-Old 50-Old:\n",
      "Processing 500 500:\n",
      "Test\n",
      "Processing 10-New 10-New:\n",
      "Processing 10-Old 10-Old:\n",
      "Processing 100-New 100-New:\n",
      "Processing 100-Old 100-Old:\n",
      "Processing 20-New 20-New:\n",
      "Processing 20-Old 20-Old:\n",
      "Processing 200 200:\n",
      "Processing 2000 2000:\n",
      "Processing 50-New 50-New:\n",
      "Processing 50-Old 50-Old:\n",
      "Processing 500 500:\n"
     ]
    }
   ],
   "source": [
    "for category in [\"Train\",\"Val\",\"Test\"]:\n",
    "\tprint(category)\n",
    "\tmainArray = []\n",
    "\tfor folder in countdict.keys():\n",
    "\t\tlabel = labellist.index(folder)\n",
    "\t\tprint(f\"Processing {folder} {labellist[label]}:\")\n",
    "\t\tlabel = np.array([label])\n",
    "\t\timages = os.listdir(os.path.join(headpath,folder,category,\"output\"))\n",
    "\t\tfor image in images:\n",
    "\t\t\ttry:\n",
    "\t\t\t\timg = cv2.imread(os.path.join(headpath,folder,category,\"output\",image))\n",
    "\t\t\t\timg = cv2.cvtColor(img,cv2.COLOR_BGR2RGB)\n",
    "\t\t\t\timg = np.array(img)\n",
    "\t\t\t\tmainArray.append([img,label])\n",
    "\t\t\texcept Exception as e:\n",
    "\t\t\t\tprint(image,e)\n",
    "\t\tnp.save(f\"{category}.npy\",mainArray)"
   ]
  },
  {
   "attachments": {},
   "cell_type": "markdown",
   "metadata": {},
   "source": [
    "## Test"
   ]
  },
  {
   "cell_type": "code",
   "execution_count": 3,
   "metadata": {},
   "outputs": [],
   "source": [
    "train = np.load(os.path.join(headpath,\"Test.npy\"),allow_pickle=True)"
   ]
  },
  {
   "cell_type": "code",
   "execution_count": 4,
   "metadata": {},
   "outputs": [],
   "source": [
    "train_features = [i[0] for i in train]\n",
    "train_classes = [i[1] for i in train]"
   ]
  },
  {
   "cell_type": "code",
   "execution_count": 5,
   "metadata": {},
   "outputs": [
    {
     "data": {
      "text/plain": [
       "[array([0]),\n",
       " array([0]),\n",
       " array([0]),\n",
       " array([0]),\n",
       " array([0]),\n",
       " array([0]),\n",
       " array([0]),\n",
       " array([0]),\n",
       " array([0]),\n",
       " array([0]),\n",
       " array([0]),\n",
       " array([0]),\n",
       " array([0]),\n",
       " array([0]),\n",
       " array([0]),\n",
       " array([0]),\n",
       " array([0]),\n",
       " array([0]),\n",
       " array([0]),\n",
       " array([0]),\n",
       " array([0]),\n",
       " array([0]),\n",
       " array([0]),\n",
       " array([0]),\n",
       " array([0]),\n",
       " array([0]),\n",
       " array([0]),\n",
       " array([0]),\n",
       " array([0]),\n",
       " array([0]),\n",
       " array([0]),\n",
       " array([0]),\n",
       " array([0]),\n",
       " array([0]),\n",
       " array([0]),\n",
       " array([0]),\n",
       " array([0]),\n",
       " array([0]),\n",
       " array([0]),\n",
       " array([0]),\n",
       " array([0]),\n",
       " array([0]),\n",
       " array([0]),\n",
       " array([0]),\n",
       " array([0]),\n",
       " array([0]),\n",
       " array([0]),\n",
       " array([0]),\n",
       " array([0]),\n",
       " array([0]),\n",
       " array([0]),\n",
       " array([0]),\n",
       " array([0]),\n",
       " array([0]),\n",
       " array([0]),\n",
       " array([0]),\n",
       " array([0]),\n",
       " array([0]),\n",
       " array([0]),\n",
       " array([0]),\n",
       " array([0]),\n",
       " array([0]),\n",
       " array([0]),\n",
       " array([0]),\n",
       " array([0]),\n",
       " array([0]),\n",
       " array([0]),\n",
       " array([0]),\n",
       " array([0]),\n",
       " array([0]),\n",
       " array([0]),\n",
       " array([0]),\n",
       " array([0]),\n",
       " array([0]),\n",
       " array([0]),\n",
       " array([0]),\n",
       " array([0]),\n",
       " array([0]),\n",
       " array([0]),\n",
       " array([0]),\n",
       " array([0]),\n",
       " array([0]),\n",
       " array([0]),\n",
       " array([0]),\n",
       " array([0]),\n",
       " array([0]),\n",
       " array([0]),\n",
       " array([0]),\n",
       " array([0]),\n",
       " array([0]),\n",
       " array([0]),\n",
       " array([0]),\n",
       " array([0]),\n",
       " array([0]),\n",
       " array([0]),\n",
       " array([0]),\n",
       " array([0]),\n",
       " array([0]),\n",
       " array([0]),\n",
       " array([0]),\n",
       " array([0]),\n",
       " array([0]),\n",
       " array([0]),\n",
       " array([0]),\n",
       " array([0]),\n",
       " array([0]),\n",
       " array([0]),\n",
       " array([0]),\n",
       " array([0]),\n",
       " array([0]),\n",
       " array([0]),\n",
       " array([0]),\n",
       " array([0]),\n",
       " array([0]),\n",
       " array([0]),\n",
       " array([0]),\n",
       " array([0]),\n",
       " array([0]),\n",
       " array([0]),\n",
       " array([0]),\n",
       " array([0]),\n",
       " array([0]),\n",
       " array([0]),\n",
       " array([0]),\n",
       " array([0]),\n",
       " array([0]),\n",
       " array([0]),\n",
       " array([0]),\n",
       " array([0]),\n",
       " array([0]),\n",
       " array([0]),\n",
       " array([0]),\n",
       " array([0]),\n",
       " array([0]),\n",
       " array([0]),\n",
       " array([0]),\n",
       " array([0]),\n",
       " array([0]),\n",
       " array([0]),\n",
       " array([0]),\n",
       " array([0]),\n",
       " array([0]),\n",
       " array([0]),\n",
       " array([0]),\n",
       " array([0]),\n",
       " array([0]),\n",
       " array([0]),\n",
       " array([0]),\n",
       " array([0]),\n",
       " array([0]),\n",
       " array([1]),\n",
       " array([1]),\n",
       " array([1]),\n",
       " array([1]),\n",
       " array([1]),\n",
       " array([1]),\n",
       " array([1]),\n",
       " array([1]),\n",
       " array([1]),\n",
       " array([1]),\n",
       " array([1]),\n",
       " array([1]),\n",
       " array([1]),\n",
       " array([1]),\n",
       " array([1]),\n",
       " array([1]),\n",
       " array([1]),\n",
       " array([1]),\n",
       " array([1]),\n",
       " array([1]),\n",
       " array([1]),\n",
       " array([1]),\n",
       " array([1]),\n",
       " array([1]),\n",
       " array([1]),\n",
       " array([1]),\n",
       " array([1]),\n",
       " array([1]),\n",
       " array([1]),\n",
       " array([1]),\n",
       " array([1]),\n",
       " array([1]),\n",
       " array([1]),\n",
       " array([1]),\n",
       " array([1]),\n",
       " array([1]),\n",
       " array([1]),\n",
       " array([1]),\n",
       " array([1]),\n",
       " array([1]),\n",
       " array([1]),\n",
       " array([1]),\n",
       " array([1]),\n",
       " array([1]),\n",
       " array([1]),\n",
       " array([1]),\n",
       " array([1]),\n",
       " array([1]),\n",
       " array([1]),\n",
       " array([1]),\n",
       " array([1]),\n",
       " array([1]),\n",
       " array([1]),\n",
       " array([1]),\n",
       " array([1]),\n",
       " array([1]),\n",
       " array([1]),\n",
       " array([1]),\n",
       " array([1]),\n",
       " array([1]),\n",
       " array([1]),\n",
       " array([1]),\n",
       " array([1]),\n",
       " array([1]),\n",
       " array([1]),\n",
       " array([1]),\n",
       " array([1]),\n",
       " array([1]),\n",
       " array([1]),\n",
       " array([1]),\n",
       " array([1]),\n",
       " array([1]),\n",
       " array([1]),\n",
       " array([1]),\n",
       " array([1]),\n",
       " array([1]),\n",
       " array([1]),\n",
       " array([1]),\n",
       " array([1]),\n",
       " array([1]),\n",
       " array([1]),\n",
       " array([1]),\n",
       " array([1]),\n",
       " array([1]),\n",
       " array([1]),\n",
       " array([1]),\n",
       " array([1]),\n",
       " array([1]),\n",
       " array([1]),\n",
       " array([1]),\n",
       " array([1]),\n",
       " array([1]),\n",
       " array([1]),\n",
       " array([1]),\n",
       " array([1]),\n",
       " array([1]),\n",
       " array([1]),\n",
       " array([1]),\n",
       " array([1]),\n",
       " array([1]),\n",
       " array([1]),\n",
       " array([1]),\n",
       " array([1]),\n",
       " array([1]),\n",
       " array([1]),\n",
       " array([1]),\n",
       " array([1]),\n",
       " array([1]),\n",
       " array([1]),\n",
       " array([1]),\n",
       " array([1]),\n",
       " array([1]),\n",
       " array([1]),\n",
       " array([1]),\n",
       " array([1]),\n",
       " array([1]),\n",
       " array([1]),\n",
       " array([1]),\n",
       " array([1]),\n",
       " array([1]),\n",
       " array([1]),\n",
       " array([1]),\n",
       " array([1]),\n",
       " array([1]),\n",
       " array([1]),\n",
       " array([1]),\n",
       " array([1]),\n",
       " array([1]),\n",
       " array([1]),\n",
       " array([1]),\n",
       " array([1]),\n",
       " array([1]),\n",
       " array([1]),\n",
       " array([1]),\n",
       " array([1]),\n",
       " array([1]),\n",
       " array([1]),\n",
       " array([1]),\n",
       " array([1]),\n",
       " array([1]),\n",
       " array([1]),\n",
       " array([1]),\n",
       " array([1]),\n",
       " array([1]),\n",
       " array([1]),\n",
       " array([1]),\n",
       " array([1]),\n",
       " array([1]),\n",
       " array([1]),\n",
       " array([1]),\n",
       " array([2]),\n",
       " array([2]),\n",
       " array([2]),\n",
       " array([2]),\n",
       " array([2]),\n",
       " array([2]),\n",
       " array([2]),\n",
       " array([2]),\n",
       " array([2]),\n",
       " array([2]),\n",
       " array([2]),\n",
       " array([2]),\n",
       " array([2]),\n",
       " array([2]),\n",
       " array([2]),\n",
       " array([2]),\n",
       " array([2]),\n",
       " array([2]),\n",
       " array([2]),\n",
       " array([2]),\n",
       " array([2]),\n",
       " array([2]),\n",
       " array([2]),\n",
       " array([2]),\n",
       " array([2]),\n",
       " array([2]),\n",
       " array([2]),\n",
       " array([2]),\n",
       " array([2]),\n",
       " array([2]),\n",
       " array([2]),\n",
       " array([2]),\n",
       " array([2]),\n",
       " array([2]),\n",
       " array([2]),\n",
       " array([2]),\n",
       " array([2]),\n",
       " array([2]),\n",
       " array([2]),\n",
       " array([2]),\n",
       " array([2]),\n",
       " array([2]),\n",
       " array([2]),\n",
       " array([2]),\n",
       " array([2]),\n",
       " array([2]),\n",
       " array([2]),\n",
       " array([2]),\n",
       " array([2]),\n",
       " array([2]),\n",
       " array([2]),\n",
       " array([2]),\n",
       " array([2]),\n",
       " array([2]),\n",
       " array([2]),\n",
       " array([2]),\n",
       " array([2]),\n",
       " array([2]),\n",
       " array([2]),\n",
       " array([2]),\n",
       " array([2]),\n",
       " array([2]),\n",
       " array([2]),\n",
       " array([2]),\n",
       " array([2]),\n",
       " array([2]),\n",
       " array([2]),\n",
       " array([2]),\n",
       " array([2]),\n",
       " array([2]),\n",
       " array([2]),\n",
       " array([2]),\n",
       " array([2]),\n",
       " array([2]),\n",
       " array([2]),\n",
       " array([2]),\n",
       " array([2]),\n",
       " array([2]),\n",
       " array([2]),\n",
       " array([2]),\n",
       " array([2]),\n",
       " array([2]),\n",
       " array([2]),\n",
       " array([2]),\n",
       " array([2]),\n",
       " array([2]),\n",
       " array([2]),\n",
       " array([2]),\n",
       " array([2]),\n",
       " array([2]),\n",
       " array([2]),\n",
       " array([2]),\n",
       " array([2]),\n",
       " array([2]),\n",
       " array([2]),\n",
       " array([2]),\n",
       " array([2]),\n",
       " array([2]),\n",
       " array([2]),\n",
       " array([2]),\n",
       " array([2]),\n",
       " array([2]),\n",
       " array([2]),\n",
       " array([2]),\n",
       " array([2]),\n",
       " array([2]),\n",
       " array([2]),\n",
       " array([2]),\n",
       " array([2]),\n",
       " array([2]),\n",
       " array([2]),\n",
       " array([2]),\n",
       " array([2]),\n",
       " array([2]),\n",
       " array([2]),\n",
       " array([2]),\n",
       " array([2]),\n",
       " array([2]),\n",
       " array([2]),\n",
       " array([2]),\n",
       " array([2]),\n",
       " array([2]),\n",
       " array([2]),\n",
       " array([2]),\n",
       " array([2]),\n",
       " array([2]),\n",
       " array([2]),\n",
       " array([2]),\n",
       " array([2]),\n",
       " array([2]),\n",
       " array([2]),\n",
       " array([2]),\n",
       " array([2]),\n",
       " array([2]),\n",
       " array([2]),\n",
       " array([2]),\n",
       " array([2]),\n",
       " array([2]),\n",
       " array([2]),\n",
       " array([2]),\n",
       " array([2]),\n",
       " array([2]),\n",
       " array([2]),\n",
       " array([2]),\n",
       " array([2]),\n",
       " array([2]),\n",
       " array([2]),\n",
       " array([2]),\n",
       " array([2]),\n",
       " array([2]),\n",
       " array([3]),\n",
       " array([3]),\n",
       " array([3]),\n",
       " array([3]),\n",
       " array([3]),\n",
       " array([3]),\n",
       " array([3]),\n",
       " array([3]),\n",
       " array([3]),\n",
       " array([3]),\n",
       " array([3]),\n",
       " array([3]),\n",
       " array([3]),\n",
       " array([3]),\n",
       " array([3]),\n",
       " array([3]),\n",
       " array([3]),\n",
       " array([3]),\n",
       " array([3]),\n",
       " array([3]),\n",
       " array([3]),\n",
       " array([3]),\n",
       " array([3]),\n",
       " array([3]),\n",
       " array([3]),\n",
       " array([3]),\n",
       " array([3]),\n",
       " array([3]),\n",
       " array([3]),\n",
       " array([3]),\n",
       " array([3]),\n",
       " array([3]),\n",
       " array([3]),\n",
       " array([3]),\n",
       " array([3]),\n",
       " array([3]),\n",
       " array([3]),\n",
       " array([3]),\n",
       " array([3]),\n",
       " array([3]),\n",
       " array([3]),\n",
       " array([3]),\n",
       " array([3]),\n",
       " array([3]),\n",
       " array([3]),\n",
       " array([3]),\n",
       " array([3]),\n",
       " array([3]),\n",
       " array([3]),\n",
       " array([3]),\n",
       " array([3]),\n",
       " array([3]),\n",
       " array([3]),\n",
       " array([3]),\n",
       " array([3]),\n",
       " array([3]),\n",
       " array([3]),\n",
       " array([3]),\n",
       " array([3]),\n",
       " array([3]),\n",
       " array([3]),\n",
       " array([3]),\n",
       " array([3]),\n",
       " array([3]),\n",
       " array([3]),\n",
       " array([3]),\n",
       " array([3]),\n",
       " array([3]),\n",
       " array([3]),\n",
       " array([3]),\n",
       " array([3]),\n",
       " array([3]),\n",
       " array([3]),\n",
       " array([3]),\n",
       " array([3]),\n",
       " array([3]),\n",
       " array([3]),\n",
       " array([3]),\n",
       " array([3]),\n",
       " array([3]),\n",
       " array([3]),\n",
       " array([3]),\n",
       " array([3]),\n",
       " array([3]),\n",
       " array([3]),\n",
       " array([3]),\n",
       " array([3]),\n",
       " array([3]),\n",
       " array([3]),\n",
       " array([3]),\n",
       " array([3]),\n",
       " array([3]),\n",
       " array([3]),\n",
       " array([3]),\n",
       " array([3]),\n",
       " array([3]),\n",
       " array([3]),\n",
       " array([3]),\n",
       " array([3]),\n",
       " array([3]),\n",
       " array([3]),\n",
       " array([3]),\n",
       " array([3]),\n",
       " array([3]),\n",
       " array([3]),\n",
       " array([3]),\n",
       " array([3]),\n",
       " array([3]),\n",
       " array([3]),\n",
       " array([3]),\n",
       " array([3]),\n",
       " array([3]),\n",
       " array([3]),\n",
       " array([3]),\n",
       " array([3]),\n",
       " array([3]),\n",
       " array([3]),\n",
       " array([3]),\n",
       " array([3]),\n",
       " array([3]),\n",
       " array([3]),\n",
       " array([3]),\n",
       " array([3]),\n",
       " array([3]),\n",
       " array([3]),\n",
       " array([3]),\n",
       " array([3]),\n",
       " array([3]),\n",
       " array([3]),\n",
       " array([3]),\n",
       " array([3]),\n",
       " array([3]),\n",
       " array([3]),\n",
       " array([3]),\n",
       " array([3]),\n",
       " array([3]),\n",
       " array([3]),\n",
       " array([3]),\n",
       " array([3]),\n",
       " array([3]),\n",
       " array([3]),\n",
       " array([3]),\n",
       " array([3]),\n",
       " array([3]),\n",
       " array([3]),\n",
       " array([3]),\n",
       " array([3]),\n",
       " array([3]),\n",
       " array([3]),\n",
       " array([3]),\n",
       " array([4]),\n",
       " array([4]),\n",
       " array([4]),\n",
       " array([4]),\n",
       " array([4]),\n",
       " array([4]),\n",
       " array([4]),\n",
       " array([4]),\n",
       " array([4]),\n",
       " array([4]),\n",
       " array([4]),\n",
       " array([4]),\n",
       " array([4]),\n",
       " array([4]),\n",
       " array([4]),\n",
       " array([4]),\n",
       " array([4]),\n",
       " array([4]),\n",
       " array([4]),\n",
       " array([4]),\n",
       " array([4]),\n",
       " array([4]),\n",
       " array([4]),\n",
       " array([4]),\n",
       " array([4]),\n",
       " array([4]),\n",
       " array([4]),\n",
       " array([4]),\n",
       " array([4]),\n",
       " array([4]),\n",
       " array([4]),\n",
       " array([4]),\n",
       " array([4]),\n",
       " array([4]),\n",
       " array([4]),\n",
       " array([4]),\n",
       " array([4]),\n",
       " array([4]),\n",
       " array([4]),\n",
       " array([4]),\n",
       " array([4]),\n",
       " array([4]),\n",
       " array([4]),\n",
       " array([4]),\n",
       " array([4]),\n",
       " array([4]),\n",
       " array([4]),\n",
       " array([4]),\n",
       " array([4]),\n",
       " array([4]),\n",
       " array([4]),\n",
       " array([4]),\n",
       " array([4]),\n",
       " array([4]),\n",
       " array([4]),\n",
       " array([4]),\n",
       " array([4]),\n",
       " array([4]),\n",
       " array([4]),\n",
       " array([4]),\n",
       " array([4]),\n",
       " array([4]),\n",
       " array([4]),\n",
       " array([4]),\n",
       " array([4]),\n",
       " array([4]),\n",
       " array([4]),\n",
       " array([4]),\n",
       " array([4]),\n",
       " array([4]),\n",
       " array([4]),\n",
       " array([4]),\n",
       " array([4]),\n",
       " array([4]),\n",
       " array([4]),\n",
       " array([4]),\n",
       " array([4]),\n",
       " array([4]),\n",
       " array([4]),\n",
       " array([4]),\n",
       " array([4]),\n",
       " array([4]),\n",
       " array([4]),\n",
       " array([4]),\n",
       " array([4]),\n",
       " array([4]),\n",
       " array([4]),\n",
       " array([4]),\n",
       " array([4]),\n",
       " array([4]),\n",
       " array([4]),\n",
       " array([4]),\n",
       " array([4]),\n",
       " array([4]),\n",
       " array([4]),\n",
       " array([4]),\n",
       " array([4]),\n",
       " array([4]),\n",
       " array([4]),\n",
       " array([4]),\n",
       " array([4]),\n",
       " array([4]),\n",
       " array([4]),\n",
       " array([4]),\n",
       " array([4]),\n",
       " array([4]),\n",
       " array([4]),\n",
       " array([4]),\n",
       " array([4]),\n",
       " array([4]),\n",
       " array([4]),\n",
       " array([4]),\n",
       " array([4]),\n",
       " array([4]),\n",
       " array([4]),\n",
       " array([4]),\n",
       " array([4]),\n",
       " array([4]),\n",
       " array([4]),\n",
       " array([4]),\n",
       " array([4]),\n",
       " array([4]),\n",
       " array([4]),\n",
       " array([4]),\n",
       " array([4]),\n",
       " array([4]),\n",
       " array([4]),\n",
       " array([4]),\n",
       " array([4]),\n",
       " array([4]),\n",
       " array([4]),\n",
       " array([4]),\n",
       " array([4]),\n",
       " array([4]),\n",
       " array([4]),\n",
       " array([4]),\n",
       " array([4]),\n",
       " array([4]),\n",
       " array([4]),\n",
       " array([4]),\n",
       " array([4]),\n",
       " array([4]),\n",
       " array([4]),\n",
       " array([4]),\n",
       " array([4]),\n",
       " array([4]),\n",
       " array([4]),\n",
       " array([4]),\n",
       " array([4]),\n",
       " array([4]),\n",
       " array([5]),\n",
       " array([5]),\n",
       " array([5]),\n",
       " array([5]),\n",
       " array([5]),\n",
       " array([5]),\n",
       " array([5]),\n",
       " array([5]),\n",
       " array([5]),\n",
       " array([5]),\n",
       " array([5]),\n",
       " array([5]),\n",
       " array([5]),\n",
       " array([5]),\n",
       " array([5]),\n",
       " array([5]),\n",
       " array([5]),\n",
       " array([5]),\n",
       " array([5]),\n",
       " array([5]),\n",
       " array([5]),\n",
       " array([5]),\n",
       " array([5]),\n",
       " array([5]),\n",
       " array([5]),\n",
       " array([5]),\n",
       " array([5]),\n",
       " array([5]),\n",
       " array([5]),\n",
       " array([5]),\n",
       " array([5]),\n",
       " array([5]),\n",
       " array([5]),\n",
       " array([5]),\n",
       " array([5]),\n",
       " array([5]),\n",
       " array([5]),\n",
       " array([5]),\n",
       " array([5]),\n",
       " array([5]),\n",
       " array([5]),\n",
       " array([5]),\n",
       " array([5]),\n",
       " array([5]),\n",
       " array([5]),\n",
       " array([5]),\n",
       " array([5]),\n",
       " array([5]),\n",
       " array([5]),\n",
       " array([5]),\n",
       " array([5]),\n",
       " array([5]),\n",
       " array([5]),\n",
       " array([5]),\n",
       " array([5]),\n",
       " array([5]),\n",
       " array([5]),\n",
       " array([5]),\n",
       " array([5]),\n",
       " array([5]),\n",
       " array([5]),\n",
       " array([5]),\n",
       " array([5]),\n",
       " array([5]),\n",
       " array([5]),\n",
       " array([5]),\n",
       " array([5]),\n",
       " array([5]),\n",
       " array([5]),\n",
       " array([5]),\n",
       " array([5]),\n",
       " array([5]),\n",
       " array([5]),\n",
       " array([5]),\n",
       " array([5]),\n",
       " array([5]),\n",
       " array([5]),\n",
       " array([5]),\n",
       " array([5]),\n",
       " array([5]),\n",
       " array([5]),\n",
       " array([5]),\n",
       " array([5]),\n",
       " array([5]),\n",
       " array([5]),\n",
       " array([5]),\n",
       " array([5]),\n",
       " array([5]),\n",
       " array([5]),\n",
       " array([5]),\n",
       " array([5]),\n",
       " array([5]),\n",
       " array([5]),\n",
       " array([5]),\n",
       " array([5]),\n",
       " array([5]),\n",
       " array([5]),\n",
       " array([5]),\n",
       " array([5]),\n",
       " array([5]),\n",
       " array([5]),\n",
       " array([5]),\n",
       " array([5]),\n",
       " array([5]),\n",
       " array([5]),\n",
       " array([5]),\n",
       " array([5]),\n",
       " array([5]),\n",
       " array([5]),\n",
       " array([5]),\n",
       " array([5]),\n",
       " array([5]),\n",
       " array([5]),\n",
       " array([5]),\n",
       " array([5]),\n",
       " array([5]),\n",
       " array([5]),\n",
       " array([5]),\n",
       " array([5]),\n",
       " array([5]),\n",
       " array([5]),\n",
       " array([5]),\n",
       " array([5]),\n",
       " array([5]),\n",
       " array([5]),\n",
       " array([5]),\n",
       " array([5]),\n",
       " array([5]),\n",
       " array([5]),\n",
       " array([5]),\n",
       " array([5]),\n",
       " array([5]),\n",
       " array([5]),\n",
       " array([5]),\n",
       " array([5]),\n",
       " array([5]),\n",
       " array([5]),\n",
       " array([5]),\n",
       " array([5]),\n",
       " array([5]),\n",
       " array([5]),\n",
       " array([5]),\n",
       " array([5]),\n",
       " array([5]),\n",
       " array([5]),\n",
       " array([5]),\n",
       " array([5]),\n",
       " array([5]),\n",
       " array([5]),\n",
       " array([5]),\n",
       " array([6]),\n",
       " array([6]),\n",
       " array([6]),\n",
       " array([6]),\n",
       " array([6]),\n",
       " array([6]),\n",
       " array([6]),\n",
       " array([6]),\n",
       " array([6]),\n",
       " array([6]),\n",
       " array([6]),\n",
       " array([6]),\n",
       " array([6]),\n",
       " array([6]),\n",
       " array([6]),\n",
       " array([6]),\n",
       " array([6]),\n",
       " array([6]),\n",
       " array([6]),\n",
       " array([6]),\n",
       " array([6]),\n",
       " array([6]),\n",
       " array([6]),\n",
       " array([6]),\n",
       " array([6]),\n",
       " array([6]),\n",
       " array([6]),\n",
       " array([6]),\n",
       " array([6]),\n",
       " array([6]),\n",
       " array([6]),\n",
       " array([6]),\n",
       " array([6]),\n",
       " array([6]),\n",
       " array([6]),\n",
       " array([6]),\n",
       " array([6]),\n",
       " array([6]),\n",
       " array([6]),\n",
       " array([6]),\n",
       " array([6]),\n",
       " array([6]),\n",
       " array([6]),\n",
       " array([6]),\n",
       " array([6]),\n",
       " array([6]),\n",
       " array([6]),\n",
       " array([6]),\n",
       " array([6]),\n",
       " array([6]),\n",
       " array([6]),\n",
       " array([6]),\n",
       " array([6]),\n",
       " array([6]),\n",
       " array([6]),\n",
       " array([6]),\n",
       " array([6]),\n",
       " array([6]),\n",
       " array([6]),\n",
       " array([6]),\n",
       " array([6]),\n",
       " array([6]),\n",
       " array([6]),\n",
       " array([6]),\n",
       " array([6]),\n",
       " array([6]),\n",
       " array([6]),\n",
       " array([6]),\n",
       " array([6]),\n",
       " array([6]),\n",
       " array([6]),\n",
       " array([6]),\n",
       " array([6]),\n",
       " array([6]),\n",
       " array([6]),\n",
       " array([6]),\n",
       " array([6]),\n",
       " array([6]),\n",
       " array([6]),\n",
       " array([6]),\n",
       " array([6]),\n",
       " array([6]),\n",
       " array([6]),\n",
       " array([6]),\n",
       " array([6]),\n",
       " array([6]),\n",
       " array([6]),\n",
       " array([6]),\n",
       " array([6]),\n",
       " array([6]),\n",
       " array([6]),\n",
       " array([6]),\n",
       " array([6]),\n",
       " array([6]),\n",
       " array([6]),\n",
       " array([6]),\n",
       " array([6]),\n",
       " array([6]),\n",
       " array([6]),\n",
       " array([6]),\n",
       " ...]"
      ]
     },
     "execution_count": 5,
     "metadata": {},
     "output_type": "execute_result"
    }
   ],
   "source": [
    "train_classes"
   ]
  },
  {
   "cell_type": "code",
   "execution_count": 6,
   "metadata": {},
   "outputs": [],
   "source": [
    "traint = np.array(train_classes)"
   ]
  },
  {
   "cell_type": "code",
   "execution_count": 7,
   "metadata": {},
   "outputs": [
    {
     "data": {
      "text/plain": [
       "array([ 0,  0,  0, ..., 10, 10, 10])"
      ]
     },
     "execution_count": 7,
     "metadata": {},
     "output_type": "execute_result"
    }
   ],
   "source": [
    "traint.flatten()"
   ]
  },
  {
   "cell_type": "code",
   "execution_count": 8,
   "metadata": {},
   "outputs": [
    {
     "name": "stdout",
     "output_type": "stream",
     "text": [
      "150\n",
      "150\n",
      "150\n",
      "150\n",
      "150\n",
      "150\n",
      "150\n",
      "150\n",
      "150\n",
      "150\n",
      "150\n"
     ]
    }
   ],
   "source": [
    "for i in range(11):\n",
    "  print(np.count_nonzero(traint == i))"
   ]
  },
  {
   "attachments": {},
   "cell_type": "markdown",
   "metadata": {},
   "source": [
    "## Resolving 1 image issue in 50 Old Test"
   ]
  },
  {
   "cell_type": "code",
   "execution_count": 4,
   "metadata": {},
   "outputs": [
    {
     "name": "stdout",
     "output_type": "stream",
     "text": [
      "Initialised with 19 image(s) found.\n",
      "Output directory set to d:\\Dataset of currency\\Denomination\\50-Old\\Test\\output."
     ]
    },
    {
     "name": "stderr",
     "output_type": "stream",
     "text": [
      "Processing <PIL.Image.Image image mode=RGB size=300x200 at 0x1A83684E950>: 100%|██████████| 150/150 [00:00<00:00, 211.11 Samples/s]                \n"
     ]
    }
   ],
   "source": [
    "p = Augmentor.Pipeline(os.path.join(headpath,'50-Old','Test'))\n",
    "p.rotate180(probability=0.5)\n",
    "p.shear(probability=0.5,max_shear_left=10,max_shear_right=10)\n",
    "p.flip_left_right(probability=0.5)\n",
    "p.random_contrast(probability=0.3,min_factor=0.7,max_factor=1)\n",
    "p.random_brightness(probability=0.7,min_factor=0.8,max_factor=1.2)\n",
    "p.sample(150)"
   ]
  },
  {
   "cell_type": "code",
   "execution_count": 7,
   "metadata": {},
   "outputs": [
    {
     "name": "stdout",
     "output_type": "stream",
     "text": [
      "Images in 50-Old Test : 150\n"
     ]
    }
   ],
   "source": [
    "images = os.listdir(os.path.join(headpath,'50-Old','Test',\"output\"))\n",
    "print(f\"Images in 50-Old Test : {len(images)}\")\n",
    "for image in images:\n",
    "\ttry:\n",
    "\t\timg = cv2.imread(os.path.join(headpath,'50-Old','Test',\"output\",image))\n",
    "\t\tif img.shape[0] > img.shape[1]:\n",
    "\t\t\timg = cv2.rotate(img,cv2.ROTATE_90_COUNTERCLOCKWISE)\n",
    "\t\t\tcv2.imwrite(os.path.join(headpath,'50-Old','Test',\"output\",image),img)\n",
    "\texcept Exception as error:\n",
    "\t\tprint(image,error)"
   ]
  },
  {
   "cell_type": "code",
   "execution_count": 12,
   "metadata": {},
   "outputs": [
    {
     "name": "stdout",
     "output_type": "stream",
     "text": [
      "Test\n",
      "Processing 10-New 10-New:\n"
     ]
    },
    {
     "name": "stderr",
     "output_type": "stream",
     "text": [
      "c:\\Users\\DELL\\AppData\\Local\\Programs\\Python\\Python310\\lib\\site-packages\\numpy\\lib\\npyio.py:518: VisibleDeprecationWarning: Creating an ndarray from ragged nested sequences (which is a list-or-tuple of lists-or-tuples-or ndarrays with different lengths or shapes) is deprecated. If you meant to do this, you must specify 'dtype=object' when creating the ndarray.\n",
      "  arr = np.asanyarray(arr)\n"
     ]
    },
    {
     "name": "stdout",
     "output_type": "stream",
     "text": [
      "Processing 10-Old 10-Old:\n",
      "Processing 100-New 100-New:\n",
      "Processing 100-Old 100-Old:\n",
      "Processing 20-New 20-New:\n",
      "Processing 20-Old 20-Old:\n",
      "Processing 200 200:\n",
      "Processing 2000 2000:\n",
      "Processing 50-New 50-New:\n",
      "Processing 50-Old 50-Old:\n",
      "Processing 500 500:\n"
     ]
    }
   ],
   "source": [
    "for category in [\"Test\"]:\n",
    "\tprint(category)\n",
    "\tmainArray = []\n",
    "\tfor folder in countdict.keys():\n",
    "\t\tlabel = labellist.index(folder)\n",
    "\t\tprint(f\"Processing {folder} {labellist[label]}:\")\n",
    "\t\tlabel = np.array([label])\n",
    "\t\timages = os.listdir(os.path.join(headpath,folder,category,\"output\"))\n",
    "\t\tfor image in images:\n",
    "\t\t\ttry:\n",
    "\t\t\t\timg = cv2.imread(os.path.join(headpath,folder,category,\"output\",image))\n",
    "\t\t\t\timg = cv2.cvtColor(img,cv2.COLOR_BGR2RGB)\n",
    "\t\t\t\timg = np.array(img)\n",
    "\t\t\t\tmainArray.append([img,label])\n",
    "\t\t\texcept Exception as e:\n",
    "\t\t\t\tprint(image,e)\n",
    "\t\tnp.save(f\"{category}.npy\",mainArray)"
   ]
  }
 ],
 "metadata": {
  "kernelspec": {
   "display_name": "Python 3.10.2 64-bit",
   "language": "python",
   "name": "python3"
  },
  "language_info": {
   "codemirror_mode": {
    "name": "ipython",
    "version": 3
   },
   "file_extension": ".py",
   "mimetype": "text/x-python",
   "name": "python",
   "nbconvert_exporter": "python",
   "pygments_lexer": "ipython3",
   "version": "3.10.2"
  },
  "orig_nbformat": 4,
  "vscode": {
   "interpreter": {
    "hash": "fbc768028c3e6ead51d9a200ddcb2ec858ae62844dcd1994729a8279be9b48f2"
   }
  }
 },
 "nbformat": 4,
 "nbformat_minor": 2
}
